{
 "cells": [
  {
   "cell_type": "markdown",
   "metadata": {
    "id": "Pp6KAX1UXqaK"
   },
   "source": [
    "CS4001/4042 Assignment 1, Part B, Q4\n",
    "---\n",
    "\n",
    "Model degradation is a common issue faced when deploying machine learning models (including neural networks) in the real world. New data points could exhibit a different pattern from older data points due to factors such as changes in government policy or market sentiments. For instance, housing prices in Singapore have been increasing and the Singapore government has introduced 3 rounds of cooling measures over the past years (16 December 2021, 30 September 2022, 27 April 2023).\n",
    "\n",
    "In such situations, the distribution of the new data points could differ from the original data distribution which the models were trained on. Recall that machine learning models often work with the assumption that the test distribution should be similar to train distribution. When this assumption is violated, model performance will be adversely impacted.  In the last part of this assignment, we will investigate to what extent model degradation has occurred.\n"
   ]
  },
  {
   "cell_type": "markdown",
   "metadata": {
    "id": "WsfKoCAMj9uo"
   },
   "source": [
    "\n",
    "\n",
    "---\n",
    "\n",
    "\n",
    "\n",
    "---\n",
    "\n"
   ]
  },
  {
   "cell_type": "markdown",
   "metadata": {
    "id": "Rjdf67uIarDX"
   },
   "source": [
    "Your co-investigators used a linear regression model to rapidly test out several combinations of train/test splits and shared with you their findings in a brief report attached in Appendix A below. You wish to investigate whether your deep learning model corroborates with their findings."
   ]
  },
  {
   "cell_type": "code",
   "execution_count": 1,
   "metadata": {
    "id": "M3-BW2LW4Icq"
   },
   "outputs": [
    {
     "name": "stdout",
     "output_type": "stream",
     "text": [
      "Defaulting to user installation because normal site-packages is not writeable\n",
      "Requirement already satisfied: alibi-detect in /Users/limxinyi/Library/Python/3.9/lib/python/site-packages (0.11.4)\n",
      "Requirement already satisfied: matplotlib<4.0.0,>=3.0.0 in /Users/limxinyi/Library/Python/3.9/lib/python/site-packages (from alibi-detect) (3.8.0)\n",
      "Requirement already satisfied: numpy<2.0.0,>=1.16.2 in /Users/limxinyi/Library/Python/3.9/lib/python/site-packages (from alibi-detect) (1.24.3)\n",
      "Requirement already satisfied: pandas<3.0.0,>=1.0.0 in /Users/limxinyi/Library/Python/3.9/lib/python/site-packages (from alibi-detect) (2.1.1)\n",
      "Requirement already satisfied: Pillow<10.0.0,>=5.4.1 in /Users/limxinyi/Library/Python/3.9/lib/python/site-packages (from alibi-detect) (9.5.0)\n",
      "Requirement already satisfied: opencv-python<5.0.0,>=3.2.0 in /Users/limxinyi/Library/Python/3.9/lib/python/site-packages (from alibi-detect) (4.8.1.78)\n",
      "Requirement already satisfied: scipy<2.0.0,>=1.3.0 in /Users/limxinyi/Library/Python/3.9/lib/python/site-packages (from alibi-detect) (1.11.3)\n",
      "Requirement already satisfied: scikit-image!=0.17.1,<0.22,>=0.14.2 in /Users/limxinyi/Library/Python/3.9/lib/python/site-packages (from alibi-detect) (0.21.0)\n",
      "Requirement already satisfied: scikit-learn<2.0.0,>=0.20.2 in /Users/limxinyi/Library/Python/3.9/lib/python/site-packages (from alibi-detect) (1.3.1)\n",
      "Requirement already satisfied: transformers<5.0.0,>=4.0.0 in /Users/limxinyi/Library/Python/3.9/lib/python/site-packages (from alibi-detect) (4.34.0)\n",
      "Requirement already satisfied: dill<0.4.0,>=0.3.0 in /Users/limxinyi/Library/Python/3.9/lib/python/site-packages (from alibi-detect) (0.3.7)\n",
      "Requirement already satisfied: tqdm<5.0.0,>=4.28.1 in /Users/limxinyi/Library/Python/3.9/lib/python/site-packages (from alibi-detect) (4.66.1)\n",
      "Requirement already satisfied: requests<3.0.0,>=2.21.0 in /Users/limxinyi/Library/Python/3.9/lib/python/site-packages (from alibi-detect) (2.31.0)\n",
      "Requirement already satisfied: pydantic<2.0.0,>=1.8.0 in /Users/limxinyi/Library/Python/3.9/lib/python/site-packages (from alibi-detect) (1.10.13)\n",
      "Requirement already satisfied: toml<1.0.0,>=0.10.1 in /Users/limxinyi/Library/Python/3.9/lib/python/site-packages (from alibi-detect) (0.10.2)\n",
      "Requirement already satisfied: catalogue<3.0.0,>=2.0.0 in /Users/limxinyi/Library/Python/3.9/lib/python/site-packages (from alibi-detect) (2.0.10)\n",
      "Requirement already satisfied: numba!=0.54.0,<0.58.0,>=0.50.0 in /Users/limxinyi/Library/Python/3.9/lib/python/site-packages (from alibi-detect) (0.57.1)\n",
      "Requirement already satisfied: typing-extensions>=3.7.4.3 in /Users/limxinyi/Library/Python/3.9/lib/python/site-packages (from alibi-detect) (4.8.0)\n",
      "Requirement already satisfied: contourpy>=1.0.1 in /Users/limxinyi/Library/Python/3.9/lib/python/site-packages (from matplotlib<4.0.0,>=3.0.0->alibi-detect) (1.1.1)\n",
      "Requirement already satisfied: cycler>=0.10 in /Users/limxinyi/Library/Python/3.9/lib/python/site-packages (from matplotlib<4.0.0,>=3.0.0->alibi-detect) (0.12.0)\n",
      "Requirement already satisfied: fonttools>=4.22.0 in /Users/limxinyi/Library/Python/3.9/lib/python/site-packages (from matplotlib<4.0.0,>=3.0.0->alibi-detect) (4.43.0)\n",
      "Requirement already satisfied: kiwisolver>=1.0.1 in /Users/limxinyi/Library/Python/3.9/lib/python/site-packages (from matplotlib<4.0.0,>=3.0.0->alibi-detect) (1.4.5)\n",
      "Requirement already satisfied: packaging>=20.0 in /Users/limxinyi/Library/Python/3.9/lib/python/site-packages (from matplotlib<4.0.0,>=3.0.0->alibi-detect) (23.1)\n",
      "Requirement already satisfied: pyparsing>=2.3.1 in /Users/limxinyi/Library/Python/3.9/lib/python/site-packages (from matplotlib<4.0.0,>=3.0.0->alibi-detect) (3.1.1)\n",
      "Requirement already satisfied: python-dateutil>=2.7 in /Users/limxinyi/Library/Python/3.9/lib/python/site-packages (from matplotlib<4.0.0,>=3.0.0->alibi-detect) (2.8.2)\n",
      "Requirement already satisfied: importlib-resources>=3.2.0 in /Users/limxinyi/Library/Python/3.9/lib/python/site-packages (from matplotlib<4.0.0,>=3.0.0->alibi-detect) (6.1.0)\n",
      "Requirement already satisfied: llvmlite<0.41,>=0.40.0dev0 in /Users/limxinyi/Library/Python/3.9/lib/python/site-packages (from numba!=0.54.0,<0.58.0,>=0.50.0->alibi-detect) (0.40.1)\n",
      "Requirement already satisfied: pytz>=2020.1 in /Users/limxinyi/Library/Python/3.9/lib/python/site-packages (from pandas<3.0.0,>=1.0.0->alibi-detect) (2023.3.post1)\n",
      "Requirement already satisfied: tzdata>=2022.1 in /Users/limxinyi/Library/Python/3.9/lib/python/site-packages (from pandas<3.0.0,>=1.0.0->alibi-detect) (2023.3)\n",
      "Requirement already satisfied: charset-normalizer<4,>=2 in /Users/limxinyi/Library/Python/3.9/lib/python/site-packages (from requests<3.0.0,>=2.21.0->alibi-detect) (3.2.0)\n",
      "Requirement already satisfied: idna<4,>=2.5 in /Users/limxinyi/Library/Python/3.9/lib/python/site-packages (from requests<3.0.0,>=2.21.0->alibi-detect) (3.4)\n",
      "Requirement already satisfied: urllib3<3,>=1.21.1 in /Users/limxinyi/Library/Python/3.9/lib/python/site-packages (from requests<3.0.0,>=2.21.0->alibi-detect) (1.26.16)\n",
      "Requirement already satisfied: certifi>=2017.4.17 in /Users/limxinyi/Library/Python/3.9/lib/python/site-packages (from requests<3.0.0,>=2.21.0->alibi-detect) (2023.7.22)\n",
      "Requirement already satisfied: networkx>=2.8 in /Users/limxinyi/Library/Python/3.9/lib/python/site-packages (from scikit-image!=0.17.1,<0.22,>=0.14.2->alibi-detect) (3.1)\n",
      "Requirement already satisfied: imageio>=2.27 in /Users/limxinyi/Library/Python/3.9/lib/python/site-packages (from scikit-image!=0.17.1,<0.22,>=0.14.2->alibi-detect) (2.31.5)\n",
      "Requirement already satisfied: tifffile>=2022.8.12 in /Users/limxinyi/Library/Python/3.9/lib/python/site-packages (from scikit-image!=0.17.1,<0.22,>=0.14.2->alibi-detect) (2023.9.26)\n",
      "Requirement already satisfied: PyWavelets>=1.1.1 in /Users/limxinyi/Library/Python/3.9/lib/python/site-packages (from scikit-image!=0.17.1,<0.22,>=0.14.2->alibi-detect) (1.4.1)\n",
      "Requirement already satisfied: lazy_loader>=0.2 in /Users/limxinyi/Library/Python/3.9/lib/python/site-packages (from scikit-image!=0.17.1,<0.22,>=0.14.2->alibi-detect) (0.3)\n",
      "Requirement already satisfied: joblib>=1.1.1 in /Users/limxinyi/Library/Python/3.9/lib/python/site-packages (from scikit-learn<2.0.0,>=0.20.2->alibi-detect) (1.3.2)\n",
      "Requirement already satisfied: threadpoolctl>=2.0.0 in /Users/limxinyi/Library/Python/3.9/lib/python/site-packages (from scikit-learn<2.0.0,>=0.20.2->alibi-detect) (3.2.0)\n",
      "Requirement already satisfied: filelock in /Users/limxinyi/Library/Python/3.9/lib/python/site-packages (from transformers<5.0.0,>=4.0.0->alibi-detect) (3.12.3)\n",
      "Requirement already satisfied: huggingface-hub<1.0,>=0.16.4 in /Users/limxinyi/Library/Python/3.9/lib/python/site-packages (from transformers<5.0.0,>=4.0.0->alibi-detect) (0.17.3)\n",
      "Requirement already satisfied: pyyaml>=5.1 in /Users/limxinyi/Library/Python/3.9/lib/python/site-packages (from transformers<5.0.0,>=4.0.0->alibi-detect) (6.0.1)\n",
      "Requirement already satisfied: regex!=2019.12.17 in /Users/limxinyi/Library/Python/3.9/lib/python/site-packages (from transformers<5.0.0,>=4.0.0->alibi-detect) (2023.10.3)\n",
      "Requirement already satisfied: tokenizers<0.15,>=0.14 in /Users/limxinyi/Library/Python/3.9/lib/python/site-packages (from transformers<5.0.0,>=4.0.0->alibi-detect) (0.14.1)\n",
      "Requirement already satisfied: safetensors>=0.3.1 in /Users/limxinyi/Library/Python/3.9/lib/python/site-packages (from transformers<5.0.0,>=4.0.0->alibi-detect) (0.4.0)\n",
      "Requirement already satisfied: fsspec in /Users/limxinyi/Library/Python/3.9/lib/python/site-packages (from huggingface-hub<1.0,>=0.16.4->transformers<5.0.0,>=4.0.0->alibi-detect) (2023.9.2)\n",
      "Requirement already satisfied: zipp>=3.1.0 in /Users/limxinyi/Library/Python/3.9/lib/python/site-packages (from importlib-resources>=3.2.0->matplotlib<4.0.0,>=3.0.0->alibi-detect) (3.16.2)\n",
      "Requirement already satisfied: six>=1.5 in /Library/Developer/CommandLineTools/Library/Frameworks/Python3.framework/Versions/3.9/lib/python3.9/site-packages (from python-dateutil>=2.7->matplotlib<4.0.0,>=3.0.0->alibi-detect) (1.15.0)\n"
     ]
    }
   ],
   "source": [
    "!pip install alibi-detect"
   ]
  },
  {
   "cell_type": "code",
   "execution_count": 2,
   "metadata": {
    "id": "E7dD3Ihi4GF9"
   },
   "outputs": [],
   "source": [
    "SEED = 42\n",
    "\n",
    "import os\n",
    "\n",
    "import random\n",
    "random.seed(SEED)\n",
    "\n",
    "import numpy as np\n",
    "np.random.seed(SEED)\n",
    "\n",
    "import pandas as pd\n",
    "\n",
    "from alibi_detect.cd import TabularDrift\n",
    "\n",
    "import torch\n",
    "from pytorch_tabular import TabularModel\n",
    "from pytorch_tabular.models import CategoryEmbeddingModelConfig\n",
    "from pytorch_tabular.config import (\n",
    "    DataConfig,\n",
    "    OptimizerConfig,\n",
    "    TrainerConfig,\n",
    ")\n",
    "from sklearn.metrics import r2_score\n",
    "\n",
    "\n",
    "# from alibi_detect.cd import ChiSquareDrift, TabularDrift\n",
    "# from alibi_detect.saving import save_detector, load_detector"
   ]
  },
  {
   "cell_type": "markdown",
   "metadata": {
    "id": "xJjXNMOqcHVJ"
   },
   "source": [
    "> Evaluate your model from B1 on data from year 2022 and report the test R2."
   ]
  },
  {
   "cell_type": "code",
   "execution_count": 3,
   "metadata": {
    "id": "fOUcXL5OXASY"
   },
   "outputs": [
    {
     "name": "stderr",
     "output_type": "stream",
     "text": [
      "2023-10-13 03:47:43,945 - {pytorch_tabular.tabular_model:105} - INFO - Experiment Tracking is turned off\n",
      "Global seed set to 42\n",
      "2023-10-13 03:47:44,108 - {pytorch_tabular.tabular_model:473} - INFO - Preparing the DataLoaders\n",
      "2023-10-13 03:47:44,112 - {pytorch_tabular.tabular_datamodule:290} - INFO - Setting up the datamodule for regression task\n",
      "2023-10-13 03:47:44,179 - {pytorch_tabular.tabular_model:521} - INFO - Preparing the Model: CategoryEmbeddingModel\n",
      "/Users/limxinyi/Library/Python/3.9/lib/python/site-packages/pytorch_tabular/models/base_model.py:147: UserWarning: Plotly is not installed. Please install plotly to log logits. You can install plotly using pip install plotly or install PyTorch Tabular using pip install pytorch-tabular[all]\n",
      "  warnings.warn(\n",
      "2023-10-13 03:47:44,229 - {pytorch_tabular.tabular_model:268} - INFO - Preparing the Trainer\n",
      "/Users/limxinyi/Library/Python/3.9/lib/python/site-packages/pytorch_lightning/trainer/connectors/accelerator_connector.py:589: LightningDeprecationWarning: The Trainer argument `auto_select_gpus` has been deprecated in v1.9.0 and will be removed in v2.0.0. Please use the function `pytorch_lightning.accelerators.find_usable_cuda_devices` instead.\n",
      "  rank_zero_deprecation(\n",
      "GPU available: True (mps), used: True\n",
      "TPU available: False, using: 0 TPU cores\n",
      "IPU available: False, using: 0 IPUs\n",
      "HPU available: False, using: 0 HPUs\n",
      "2023-10-13 03:47:44,320 - {pytorch_tabular.tabular_model:582} - INFO - Training Started\n",
      "/Users/limxinyi/Library/Python/3.9/lib/python/site-packages/pytorch_lightning/callbacks/model_checkpoint.py:613: UserWarning: Checkpoint directory /Users/limxinyi/Desktop/Year 4/NN Assignment Restore/saved_models exists and is not empty.\n",
      "  rank_zero_warn(f\"Checkpoint directory {dirpath} exists and is not empty.\")\n"
     ]
    },
    {
     "data": {
      "text/html": [
       "<pre style=\"white-space:pre;overflow-x:auto;line-height:normal;font-family:Menlo,'DejaVu Sans Mono',consolas,'Courier New',monospace\">┏━━━┳━━━━━━━━━━━━━━━━━━┳━━━━━━━━━━━━━━━━━━━━━━━━━━━┳━━━━━━━━┓\n",
       "┃<span style=\"color: #800080; text-decoration-color: #800080; font-weight: bold\">   </span>┃<span style=\"color: #800080; text-decoration-color: #800080; font-weight: bold\"> Name             </span>┃<span style=\"color: #800080; text-decoration-color: #800080; font-weight: bold\"> Type                      </span>┃<span style=\"color: #800080; text-decoration-color: #800080; font-weight: bold\"> Params </span>┃\n",
       "┡━━━╇━━━━━━━━━━━━━━━━━━╇━━━━━━━━━━━━━━━━━━━━━━━━━━━╇━━━━━━━━┩\n",
       "│<span style=\"color: #7f7f7f; text-decoration-color: #7f7f7f\"> 0 </span>│ _backbone        │ CategoryEmbeddingBackbone │  1.2 K │\n",
       "│<span style=\"color: #7f7f7f; text-decoration-color: #7f7f7f\"> 1 </span>│ _embedding_layer │ Embedding1dLayer          │  1.5 K │\n",
       "│<span style=\"color: #7f7f7f; text-decoration-color: #7f7f7f\"> 2 </span>│ head             │ LinearHead                │      2 │\n",
       "│<span style=\"color: #7f7f7f; text-decoration-color: #7f7f7f\"> 3 </span>│ loss             │ MSELoss                   │      0 │\n",
       "└───┴──────────────────┴───────────────────────────┴────────┘\n",
       "</pre>\n"
      ],
      "text/plain": [
       "┏━━━┳━━━━━━━━━━━━━━━━━━┳━━━━━━━━━━━━━━━━━━━━━━━━━━━┳━━━━━━━━┓\n",
       "┃\u001b[1;35m \u001b[0m\u001b[1;35m \u001b[0m\u001b[1;35m \u001b[0m┃\u001b[1;35m \u001b[0m\u001b[1;35mName            \u001b[0m\u001b[1;35m \u001b[0m┃\u001b[1;35m \u001b[0m\u001b[1;35mType                     \u001b[0m\u001b[1;35m \u001b[0m┃\u001b[1;35m \u001b[0m\u001b[1;35mParams\u001b[0m\u001b[1;35m \u001b[0m┃\n",
       "┡━━━╇━━━━━━━━━━━━━━━━━━╇━━━━━━━━━━━━━━━━━━━━━━━━━━━╇━━━━━━━━┩\n",
       "│\u001b[2m \u001b[0m\u001b[2m0\u001b[0m\u001b[2m \u001b[0m│ _backbone        │ CategoryEmbeddingBackbone │  1.2 K │\n",
       "│\u001b[2m \u001b[0m\u001b[2m1\u001b[0m\u001b[2m \u001b[0m│ _embedding_layer │ Embedding1dLayer          │  1.5 K │\n",
       "│\u001b[2m \u001b[0m\u001b[2m2\u001b[0m\u001b[2m \u001b[0m│ head             │ LinearHead                │      2 │\n",
       "│\u001b[2m \u001b[0m\u001b[2m3\u001b[0m\u001b[2m \u001b[0m│ loss             │ MSELoss                   │      0 │\n",
       "└───┴──────────────────┴───────────────────────────┴────────┘\n"
      ]
     },
     "metadata": {},
     "output_type": "display_data"
    },
    {
     "data": {
      "text/html": [
       "<pre style=\"white-space:pre;overflow-x:auto;line-height:normal;font-family:Menlo,'DejaVu Sans Mono',consolas,'Courier New',monospace\"><span style=\"font-weight: bold\">Trainable params</span>: 2.7 K                                                                                            \n",
       "<span style=\"font-weight: bold\">Non-trainable params</span>: 0                                                                                            \n",
       "<span style=\"font-weight: bold\">Total params</span>: 2.7 K                                                                                                \n",
       "<span style=\"font-weight: bold\">Total estimated model params size (MB)</span>: 0                                                                          \n",
       "</pre>\n"
      ],
      "text/plain": [
       "\u001b[1mTrainable params\u001b[0m: 2.7 K                                                                                            \n",
       "\u001b[1mNon-trainable params\u001b[0m: 0                                                                                            \n",
       "\u001b[1mTotal params\u001b[0m: 2.7 K                                                                                                \n",
       "\u001b[1mTotal estimated model params size (MB)\u001b[0m: 0                                                                          \n"
      ]
     },
     "metadata": {},
     "output_type": "display_data"
    },
    {
     "data": {
      "application/vnd.jupyter.widget-view+json": {
       "model_id": "7074a5600d1143c9bef3b3051bc51b2a",
       "version_major": 2,
       "version_minor": 0
      },
      "text/plain": [
       "Output()"
      ]
     },
     "metadata": {},
     "output_type": "display_data"
    },
    {
     "data": {
      "text/html": [
       "<pre style=\"white-space:pre;overflow-x:auto;line-height:normal;font-family:Menlo,'DejaVu Sans Mono',consolas,'Courier New',monospace\">/Users/limxinyi/Library/Python/3.9/lib/python/site-packages/pytorch_lightning/trainer/connectors/data_connector.py:\n",
       "224: PossibleUserWarning: The dataloader, val_dataloader 0, does not have many workers which may be a bottleneck. \n",
       "Consider increasing the value of the `num_workers` argument` (try 8 which is the number of cpus on this machine) in\n",
       "the `DataLoader` init to improve performance.\n",
       "  rank_zero_warn(\n",
       "</pre>\n"
      ],
      "text/plain": [
       "/Users/limxinyi/Library/Python/3.9/lib/python/site-packages/pytorch_lightning/trainer/connectors/data_connector.py:\n",
       "224: PossibleUserWarning: The dataloader, val_dataloader 0, does not have many workers which may be a bottleneck. \n",
       "Consider increasing the value of the `num_workers` argument` (try 8 which is the number of cpus on this machine) in\n",
       "the `DataLoader` init to improve performance.\n",
       "  rank_zero_warn(\n"
      ]
     },
     "metadata": {},
     "output_type": "display_data"
    },
    {
     "data": {
      "text/html": [
       "<pre style=\"white-space:pre;overflow-x:auto;line-height:normal;font-family:Menlo,'DejaVu Sans Mono',consolas,'Courier New',monospace\">/Users/limxinyi/Library/Python/3.9/lib/python/site-packages/pytorch_lightning/core/module.py:493: UserWarning: You \n",
       "called `self.log('valid_loss', ..., logger=True)` but have no logger configured. You can enable one by doing \n",
       "`Trainer(logger=ALogger(...))`\n",
       "  rank_zero_warn(\n",
       "</pre>\n"
      ],
      "text/plain": [
       "/Users/limxinyi/Library/Python/3.9/lib/python/site-packages/pytorch_lightning/core/module.py:493: UserWarning: You \n",
       "called `self.log('valid_loss', ..., logger=True)` but have no logger configured. You can enable one by doing \n",
       "`Trainer(logger=ALogger(...))`\n",
       "  rank_zero_warn(\n"
      ]
     },
     "metadata": {},
     "output_type": "display_data"
    },
    {
     "data": {
      "text/html": [
       "<pre style=\"white-space:pre;overflow-x:auto;line-height:normal;font-family:Menlo,'DejaVu Sans Mono',consolas,'Courier New',monospace\">/Users/limxinyi/Library/Python/3.9/lib/python/site-packages/pytorch_lightning/core/module.py:493: UserWarning: You \n",
       "called `self.log('valid_mean_squared_error', ..., logger=True)` but have no logger configured. You can enable one \n",
       "by doing `Trainer(logger=ALogger(...))`\n",
       "  rank_zero_warn(\n",
       "</pre>\n"
      ],
      "text/plain": [
       "/Users/limxinyi/Library/Python/3.9/lib/python/site-packages/pytorch_lightning/core/module.py:493: UserWarning: You \n",
       "called `self.log('valid_mean_squared_error', ..., logger=True)` but have no logger configured. You can enable one \n",
       "by doing `Trainer(logger=ALogger(...))`\n",
       "  rank_zero_warn(\n"
      ]
     },
     "metadata": {},
     "output_type": "display_data"
    },
    {
     "data": {
      "text/html": [
       "<pre style=\"white-space:pre;overflow-x:auto;line-height:normal;font-family:Menlo,'DejaVu Sans Mono',consolas,'Courier New',monospace\">/Users/limxinyi/Library/Python/3.9/lib/python/site-packages/pytorch_lightning/trainer/connectors/data_connector.py:\n",
       "224: PossibleUserWarning: The dataloader, train_dataloader, does not have many workers which may be a bottleneck. \n",
       "Consider increasing the value of the `num_workers` argument` (try 8 which is the number of cpus on this machine) in\n",
       "the `DataLoader` init to improve performance.\n",
       "  rank_zero_warn(\n",
       "</pre>\n"
      ],
      "text/plain": [
       "/Users/limxinyi/Library/Python/3.9/lib/python/site-packages/pytorch_lightning/trainer/connectors/data_connector.py:\n",
       "224: PossibleUserWarning: The dataloader, train_dataloader, does not have many workers which may be a bottleneck. \n",
       "Consider increasing the value of the `num_workers` argument` (try 8 which is the number of cpus on this machine) in\n",
       "the `DataLoader` init to improve performance.\n",
       "  rank_zero_warn(\n"
      ]
     },
     "metadata": {},
     "output_type": "display_data"
    },
    {
     "data": {
      "text/html": [
       "<pre style=\"white-space:pre;overflow-x:auto;line-height:normal;font-family:Menlo,'DejaVu Sans Mono',consolas,'Courier New',monospace\">/Users/limxinyi/Library/Python/3.9/lib/python/site-packages/pytorch_lightning/core/module.py:493: UserWarning: You \n",
       "called `self.log('train_loss', ..., logger=True)` but have no logger configured. You can enable one by doing \n",
       "`Trainer(logger=ALogger(...))`\n",
       "  rank_zero_warn(\n",
       "</pre>\n"
      ],
      "text/plain": [
       "/Users/limxinyi/Library/Python/3.9/lib/python/site-packages/pytorch_lightning/core/module.py:493: UserWarning: You \n",
       "called `self.log('train_loss', ..., logger=True)` but have no logger configured. You can enable one by doing \n",
       "`Trainer(logger=ALogger(...))`\n",
       "  rank_zero_warn(\n"
      ]
     },
     "metadata": {},
     "output_type": "display_data"
    },
    {
     "data": {
      "text/html": [
       "<pre style=\"white-space:pre;overflow-x:auto;line-height:normal;font-family:Menlo,'DejaVu Sans Mono',consolas,'Courier New',monospace\">/Users/limxinyi/Library/Python/3.9/lib/python/site-packages/pytorch_lightning/core/module.py:493: UserWarning: You \n",
       "called `self.log('train_mean_squared_error', ..., logger=True)` but have no logger configured. You can enable one \n",
       "by doing `Trainer(logger=ALogger(...))`\n",
       "  rank_zero_warn(\n",
       "</pre>\n"
      ],
      "text/plain": [
       "/Users/limxinyi/Library/Python/3.9/lib/python/site-packages/pytorch_lightning/core/module.py:493: UserWarning: You \n",
       "called `self.log('train_mean_squared_error', ..., logger=True)` but have no logger configured. You can enable one \n",
       "by doing `Trainer(logger=ALogger(...))`\n",
       "  rank_zero_warn(\n"
      ]
     },
     "metadata": {},
     "output_type": "display_data"
    },
    {
     "name": "stderr",
     "output_type": "stream",
     "text": [
      "`Trainer.fit` stopped: `max_epochs=50` reached.\n"
     ]
    },
    {
     "data": {
      "text/html": [
       "<pre style=\"white-space:pre;overflow-x:auto;line-height:normal;font-family:Menlo,'DejaVu Sans Mono',consolas,'Courier New',monospace\"></pre>\n"
      ],
      "text/plain": []
     },
     "metadata": {},
     "output_type": "display_data"
    },
    {
     "data": {
      "text/html": [
       "<pre style=\"white-space:pre;overflow-x:auto;line-height:normal;font-family:Menlo,'DejaVu Sans Mono',consolas,'Courier New',monospace\">\n",
       "</pre>\n"
      ],
      "text/plain": [
       "\n"
      ]
     },
     "metadata": {},
     "output_type": "display_data"
    },
    {
     "name": "stderr",
     "output_type": "stream",
     "text": [
      "2023-10-13 03:50:08,962 - {pytorch_tabular.tabular_model:584} - INFO - Training the model completed\n",
      "2023-10-13 03:50:08,964 - {pytorch_tabular.tabular_model:1258} - INFO - Loading the best model\n",
      "/Users/limxinyi/Library/Python/3.9/lib/python/site-packages/pytorch_lightning/utilities/cloud_io.py:33: LightningDeprecationWarning: `pytorch_lightning.utilities.cloud_io.get_filesystem` has been deprecated in v1.8.0 and will be removed in v2.0.0. Please use `lightning_fabric.utilities.cloud_io.get_filesystem` instead.\n",
      "  rank_zero_deprecation(\n"
     ]
    }
   ],
   "source": [
    "df = pd.read_csv('hdb_price_prediction.csv')\n",
    "\n",
    "# TODO: Enter your code here\n",
    "\n",
    "# Configure model\n",
    "def configure_model():\n",
    "\tdata_config = DataConfig(\n",
    "\t\ttarget=[\"resale_price\"],\n",
    "\t\tcontinuous_cols=[\"dist_to_nearest_stn\", \"dist_to_dhoby\", \"degree_centrality\", \"eigenvector_centrality\", \"remaining_lease_years\", \"floor_area_sqm\"],\n",
    "\t\tcategorical_cols=[\"month\", \"town\", \"flat_model_type\", \"storey_range\"],\n",
    "\t)\n",
    "\n",
    "\ttrainer_config = TrainerConfig(batch_size=1024, max_epochs=50)\n",
    "\n",
    "\tmodel_config = CategoryEmbeddingModelConfig(\n",
    "\t\ttask=\"regression\",\n",
    "\t\tlayers=\"10-50-1\",  # Number of nodes in each layer: 10 attributes (input), 50 (hidden), 1 (output)\n",
    "\t)\n",
    "\n",
    "\toptimizer_config = OptimizerConfig(\n",
    "\t\t\toptimizer=\"Adam\"\n",
    "\t)\n",
    "\n",
    "\ttabular_model = TabularModel(\n",
    "\t\tdata_config=data_config,\n",
    "\t\tmodel_config=model_config,\n",
    "\t\toptimizer_config=optimizer_config,\n",
    "\t\ttrainer_config=trainer_config,\n",
    "\t)\n",
    "\n",
    "\treturn tabular_model\n",
    "\n",
    "def train(model, train_df):\n",
    "\tmodel.fit(train=train_df)\n",
    "\treturn model\n",
    "\t\n",
    "def eval(model, test_df):\n",
    "\tresult = model.evaluate(test_df)\n",
    "\tpred_df = model.predict(test_df)\n",
    "\tr2 = r2_score(pred_df[\"resale_price\"].values, pred_df[\"resale_price_prediction\"].values)\n",
    "\treturn r2\n",
    "\n",
    "# Train model\n",
    "model = configure_model()\n",
    "train_df = df[df['year'] <= 2019]\n",
    "model = train(model, train_df)"
   ]
  },
  {
   "cell_type": "code",
   "execution_count": 4,
   "metadata": {},
   "outputs": [
    {
     "data": {
      "application/vnd.jupyter.widget-view+json": {
       "model_id": "8124574800634bdd94027285a9073e9f",
       "version_major": 2,
       "version_minor": 0
      },
      "text/plain": [
       "Output()"
      ]
     },
     "metadata": {},
     "output_type": "display_data"
    },
    {
     "data": {
      "text/html": [
       "<pre style=\"white-space:pre;overflow-x:auto;line-height:normal;font-family:Menlo,'DejaVu Sans Mono',consolas,'Courier New',monospace\">/Users/limxinyi/Library/Python/3.9/lib/python/site-packages/pytorch_lightning/core/module.py:493: UserWarning: You \n",
       "called `self.log('test_loss', ..., logger=True)` but have no logger configured. You can enable one by doing \n",
       "`Trainer(logger=ALogger(...))`\n",
       "  rank_zero_warn(\n",
       "</pre>\n"
      ],
      "text/plain": [
       "/Users/limxinyi/Library/Python/3.9/lib/python/site-packages/pytorch_lightning/core/module.py:493: UserWarning: You \n",
       "called `self.log('test_loss', ..., logger=True)` but have no logger configured. You can enable one by doing \n",
       "`Trainer(logger=ALogger(...))`\n",
       "  rank_zero_warn(\n"
      ]
     },
     "metadata": {},
     "output_type": "display_data"
    },
    {
     "data": {
      "text/html": [
       "<pre style=\"white-space:pre;overflow-x:auto;line-height:normal;font-family:Menlo,'DejaVu Sans Mono',consolas,'Courier New',monospace\">/Users/limxinyi/Library/Python/3.9/lib/python/site-packages/pytorch_lightning/core/module.py:493: UserWarning: You \n",
       "called `self.log('test_mean_squared_error', ..., logger=True)` but have no logger configured. You can enable one by\n",
       "doing `Trainer(logger=ALogger(...))`\n",
       "  rank_zero_warn(\n",
       "</pre>\n"
      ],
      "text/plain": [
       "/Users/limxinyi/Library/Python/3.9/lib/python/site-packages/pytorch_lightning/core/module.py:493: UserWarning: You \n",
       "called `self.log('test_mean_squared_error', ..., logger=True)` but have no logger configured. You can enable one by\n",
       "doing `Trainer(logger=ALogger(...))`\n",
       "  rank_zero_warn(\n"
      ]
     },
     "metadata": {},
     "output_type": "display_data"
    },
    {
     "data": {
      "text/html": [
       "<pre style=\"white-space:pre;overflow-x:auto;line-height:normal;font-family:Menlo,'DejaVu Sans Mono',consolas,'Courier New',monospace\">┏━━━━━━━━━━━━━━━━━━━━━━━━━━━┳━━━━━━━━━━━━━━━━━━━━━━━━━━━┓\n",
       "┃<span style=\"font-weight: bold\">        Test metric        </span>┃<span style=\"font-weight: bold\">       DataLoader 0        </span>┃\n",
       "┡━━━━━━━━━━━━━━━━━━━━━━━━━━━╇━━━━━━━━━━━━━━━━━━━━━━━━━━━┩\n",
       "│<span style=\"color: #008080; text-decoration-color: #008080\">         test_loss         </span>│<span style=\"color: #800080; text-decoration-color: #800080\">       18985766912.0       </span>│\n",
       "│<span style=\"color: #008080; text-decoration-color: #008080\">  test_mean_squared_error  </span>│<span style=\"color: #800080; text-decoration-color: #800080\">       18985766912.0       </span>│\n",
       "└───────────────────────────┴───────────────────────────┘\n",
       "</pre>\n"
      ],
      "text/plain": [
       "┏━━━━━━━━━━━━━━━━━━━━━━━━━━━┳━━━━━━━━━━━━━━━━━━━━━━━━━━━┓\n",
       "┃\u001b[1m \u001b[0m\u001b[1m       Test metric       \u001b[0m\u001b[1m \u001b[0m┃\u001b[1m \u001b[0m\u001b[1m      DataLoader 0       \u001b[0m\u001b[1m \u001b[0m┃\n",
       "┡━━━━━━━━━━━━━━━━━━━━━━━━━━━╇━━━━━━━━━━━━━━━━━━━━━━━━━━━┩\n",
       "│\u001b[36m \u001b[0m\u001b[36m        test_loss        \u001b[0m\u001b[36m \u001b[0m│\u001b[35m \u001b[0m\u001b[35m      18985766912.0      \u001b[0m\u001b[35m \u001b[0m│\n",
       "│\u001b[36m \u001b[0m\u001b[36m test_mean_squared_error \u001b[0m\u001b[36m \u001b[0m│\u001b[35m \u001b[0m\u001b[35m      18985766912.0      \u001b[0m\u001b[35m \u001b[0m│\n",
       "└───────────────────────────┴───────────────────────────┘\n"
      ]
     },
     "metadata": {},
     "output_type": "display_data"
    },
    {
     "data": {
      "text/html": [
       "<pre style=\"white-space:pre;overflow-x:auto;line-height:normal;font-family:Menlo,'DejaVu Sans Mono',consolas,'Courier New',monospace\"></pre>\n"
      ],
      "text/plain": []
     },
     "metadata": {},
     "output_type": "display_data"
    },
    {
     "data": {
      "text/html": [
       "<pre style=\"white-space:pre;overflow-x:auto;line-height:normal;font-family:Menlo,'DejaVu Sans Mono',consolas,'Courier New',monospace\">\n",
       "</pre>\n"
      ],
      "text/plain": [
       "\n"
      ]
     },
     "metadata": {},
     "output_type": "display_data"
    },
    {
     "data": {
      "application/vnd.jupyter.widget-view+json": {
       "model_id": "cfcffb78db09485a855b7c6375b33e09",
       "version_major": 2,
       "version_minor": 0
      },
      "text/plain": [
       "Output()"
      ]
     },
     "metadata": {},
     "output_type": "display_data"
    },
    {
     "data": {
      "text/html": [
       "<pre style=\"white-space:pre;overflow-x:auto;line-height:normal;font-family:Menlo,'DejaVu Sans Mono',consolas,'Courier New',monospace\"></pre>\n"
      ],
      "text/plain": []
     },
     "metadata": {},
     "output_type": "display_data"
    },
    {
     "data": {
      "text/html": [
       "<pre style=\"white-space:pre;overflow-x:auto;line-height:normal;font-family:Menlo,'DejaVu Sans Mono',consolas,'Courier New',monospace\">\n",
       "</pre>\n"
      ],
      "text/plain": [
       "\n"
      ]
     },
     "metadata": {},
     "output_type": "display_data"
    },
    {
     "name": "stdout",
     "output_type": "stream",
     "text": [
      "R2 score for 2022 test set:  0.3450611363416297\n"
     ]
    }
   ],
   "source": [
    "# Define test dataset\n",
    "test_df_2022 = df[df['year'] == 2022]\n",
    "\n",
    "r2_2022 = eval(model, test_df_2022)\n",
    "print(\"R2 score for 2022 test set: \", r2_2022)"
   ]
  },
  {
   "cell_type": "markdown",
   "metadata": {
    "id": "Gsbs0iMiaUy-"
   },
   "source": [
    "> Evaluate your model from B1 on data from year 2023 and report the test R2."
   ]
  },
  {
   "cell_type": "code",
   "execution_count": 5,
   "metadata": {
    "id": "B4FLRQfBaRS-"
   },
   "outputs": [
    {
     "data": {
      "application/vnd.jupyter.widget-view+json": {
       "model_id": "cdfcb5f3bb30443c813c6e9ab0e3672a",
       "version_major": 2,
       "version_minor": 0
      },
      "text/plain": [
       "Output()"
      ]
     },
     "metadata": {},
     "output_type": "display_data"
    },
    {
     "data": {
      "text/html": [
       "<pre style=\"white-space:pre;overflow-x:auto;line-height:normal;font-family:Menlo,'DejaVu Sans Mono',consolas,'Courier New',monospace\">/Users/limxinyi/Library/Python/3.9/lib/python/site-packages/pytorch_lightning/core/module.py:493: UserWarning: You \n",
       "called `self.log('test_loss', ..., logger=True)` but have no logger configured. You can enable one by doing \n",
       "`Trainer(logger=ALogger(...))`\n",
       "  rank_zero_warn(\n",
       "</pre>\n"
      ],
      "text/plain": [
       "/Users/limxinyi/Library/Python/3.9/lib/python/site-packages/pytorch_lightning/core/module.py:493: UserWarning: You \n",
       "called `self.log('test_loss', ..., logger=True)` but have no logger configured. You can enable one by doing \n",
       "`Trainer(logger=ALogger(...))`\n",
       "  rank_zero_warn(\n"
      ]
     },
     "metadata": {},
     "output_type": "display_data"
    },
    {
     "data": {
      "text/html": [
       "<pre style=\"white-space:pre;overflow-x:auto;line-height:normal;font-family:Menlo,'DejaVu Sans Mono',consolas,'Courier New',monospace\">/Users/limxinyi/Library/Python/3.9/lib/python/site-packages/pytorch_lightning/core/module.py:493: UserWarning: You \n",
       "called `self.log('test_mean_squared_error', ..., logger=True)` but have no logger configured. You can enable one by\n",
       "doing `Trainer(logger=ALogger(...))`\n",
       "  rank_zero_warn(\n",
       "</pre>\n"
      ],
      "text/plain": [
       "/Users/limxinyi/Library/Python/3.9/lib/python/site-packages/pytorch_lightning/core/module.py:493: UserWarning: You \n",
       "called `self.log('test_mean_squared_error', ..., logger=True)` but have no logger configured. You can enable one by\n",
       "doing `Trainer(logger=ALogger(...))`\n",
       "  rank_zero_warn(\n"
      ]
     },
     "metadata": {},
     "output_type": "display_data"
    },
    {
     "name": "stderr",
     "output_type": "stream",
     "text": [
      "/Users/limxinyi/Library/Python/3.9/lib/python/site-packages/pytorch_lightning/trainer/connectors/data_connector.py:224: PossibleUserWarning: The dataloader, test_dataloader 0, does not have many workers which may be a bottleneck. Consider increasing the value of the `num_workers` argument` (try 8 which is the number of cpus on this machine) in the `DataLoader` init to improve performance.\n",
      "  rank_zero_warn(\n"
     ]
    },
    {
     "data": {
      "text/html": [
       "<pre style=\"white-space:pre;overflow-x:auto;line-height:normal;font-family:Menlo,'DejaVu Sans Mono',consolas,'Courier New',monospace\">┏━━━━━━━━━━━━━━━━━━━━━━━━━━━┳━━━━━━━━━━━━━━━━━━━━━━━━━━━┓\n",
       "┃<span style=\"font-weight: bold\">        Test metric        </span>┃<span style=\"font-weight: bold\">       DataLoader 0        </span>┃\n",
       "┡━━━━━━━━━━━━━━━━━━━━━━━━━━━╇━━━━━━━━━━━━━━━━━━━━━━━━━━━┩\n",
       "│<span style=\"color: #008080; text-decoration-color: #008080\">         test_loss         </span>│<span style=\"color: #800080; text-decoration-color: #800080\">       26715762688.0       </span>│\n",
       "│<span style=\"color: #008080; text-decoration-color: #008080\">  test_mean_squared_error  </span>│<span style=\"color: #800080; text-decoration-color: #800080\">       26715762688.0       </span>│\n",
       "└───────────────────────────┴───────────────────────────┘\n",
       "</pre>\n"
      ],
      "text/plain": [
       "┏━━━━━━━━━━━━━━━━━━━━━━━━━━━┳━━━━━━━━━━━━━━━━━━━━━━━━━━━┓\n",
       "┃\u001b[1m \u001b[0m\u001b[1m       Test metric       \u001b[0m\u001b[1m \u001b[0m┃\u001b[1m \u001b[0m\u001b[1m      DataLoader 0       \u001b[0m\u001b[1m \u001b[0m┃\n",
       "┡━━━━━━━━━━━━━━━━━━━━━━━━━━━╇━━━━━━━━━━━━━━━━━━━━━━━━━━━┩\n",
       "│\u001b[36m \u001b[0m\u001b[36m        test_loss        \u001b[0m\u001b[36m \u001b[0m│\u001b[35m \u001b[0m\u001b[35m      26715762688.0      \u001b[0m\u001b[35m \u001b[0m│\n",
       "│\u001b[36m \u001b[0m\u001b[36m test_mean_squared_error \u001b[0m\u001b[36m \u001b[0m│\u001b[35m \u001b[0m\u001b[35m      26715762688.0      \u001b[0m\u001b[35m \u001b[0m│\n",
       "└───────────────────────────┴───────────────────────────┘\n"
      ]
     },
     "metadata": {},
     "output_type": "display_data"
    },
    {
     "data": {
      "text/html": [
       "<pre style=\"white-space:pre;overflow-x:auto;line-height:normal;font-family:Menlo,'DejaVu Sans Mono',consolas,'Courier New',monospace\"></pre>\n"
      ],
      "text/plain": []
     },
     "metadata": {},
     "output_type": "display_data"
    },
    {
     "data": {
      "text/html": [
       "<pre style=\"white-space:pre;overflow-x:auto;line-height:normal;font-family:Menlo,'DejaVu Sans Mono',consolas,'Courier New',monospace\">\n",
       "</pre>\n"
      ],
      "text/plain": [
       "\n"
      ]
     },
     "metadata": {},
     "output_type": "display_data"
    },
    {
     "data": {
      "application/vnd.jupyter.widget-view+json": {
       "model_id": "ce66db8238fd42d9985242c21e99cca9",
       "version_major": 2,
       "version_minor": 0
      },
      "text/plain": [
       "Output()"
      ]
     },
     "metadata": {},
     "output_type": "display_data"
    },
    {
     "data": {
      "text/html": [
       "<pre style=\"white-space:pre;overflow-x:auto;line-height:normal;font-family:Menlo,'DejaVu Sans Mono',consolas,'Courier New',monospace\"></pre>\n"
      ],
      "text/plain": []
     },
     "metadata": {},
     "output_type": "display_data"
    },
    {
     "data": {
      "text/html": [
       "<pre style=\"white-space:pre;overflow-x:auto;line-height:normal;font-family:Menlo,'DejaVu Sans Mono',consolas,'Courier New',monospace\">\n",
       "</pre>\n"
      ],
      "text/plain": [
       "\n"
      ]
     },
     "metadata": {},
     "output_type": "display_data"
    },
    {
     "name": "stdout",
     "output_type": "stream",
     "text": [
      "R2 score for 2023 test set:  0.09379718910465007\n"
     ]
    }
   ],
   "source": [
    "# Define test dataset\n",
    "test_df_2023 = df[df['year'] == 2023]\n",
    "\n",
    "r2_2023 = eval(model, test_df_2023)\n",
    "print(\"R2 score for 2023 test set: \", r2_2023)"
   ]
  },
  {
   "cell_type": "markdown",
   "metadata": {},
   "source": [
    "Model from B1,<br>\n",
    "R2 score for 2022 = 0.3450611363416297<br>\n",
    "R2 score for 2023 = 0.09379718910465007"
   ]
  },
  {
   "cell_type": "markdown",
   "metadata": {
    "id": "11mU8sxcaSAP"
   },
   "source": [
    "> Did model degradation occur for the deep learning model?\n"
   ]
  },
  {
   "cell_type": "markdown",
   "metadata": {},
   "source": [
    "\\# TODO: \\<Enter your answer here\\>\n",
    "\n",
    "Yes, model degradation occurred for the deep learing model.\n",
    "When tested on data from 2022, the model achieved a higher R2 score of 0.3450611363416297. But when tested on data from 2023, the R2 score dropped approximately four times to 0.09379718910465007"
   ]
  },
  {
   "cell_type": "markdown",
   "metadata": {
    "id": "KyiP8gBAcABD"
   },
   "source": [
    "\n",
    "\n",
    "---\n",
    "\n",
    "\n",
    "\n",
    "---\n",
    "\n"
   ]
  },
  {
   "cell_type": "markdown",
   "metadata": {
    "id": "ruldtSTDcYzt"
   },
   "source": [
    "Model degradation could be caused by [various data distribution shifts](https://huyenchip.com/2022/02/07/data-distribution-shifts-and-monitoring.html#data-shift-types): covariate shift (features), label shift and/or concept drift (altered relationship between features and labels).\n",
    "There are various conflicting terminologies in the [literature](https://www.sciencedirect.com/science/article/pii/S0950705122002854#tbl1). Let’s stick to this reference for this assignment.\n",
    "\n",
    "> Using the **Alibi Detect** library, apply the **TabularDrift** function with the training data (year 2019 and before) used as the reference and **detect which features have drifted** in the 2023 test dataset. Before running the statistical tests, ensure you **sample 1000 data points** each from the train and test data. Do not use the whole train/test data. (Hint: use this example as a guide https://docs.seldon.io/projects/alibi-detect/en/stable/examples/cd_chi2ks_adult.html)\n"
   ]
  },
  {
   "cell_type": "code",
   "execution_count": 7,
   "metadata": {
    "id": "nGbdZc3ocYbB"
   },
   "outputs": [
    {
     "name": "stdout",
     "output_type": "stream",
     "text": [
      "Drift? Yes!\n"
     ]
    }
   ],
   "source": [
    "# TODO: # TODO: Enter your code here\n",
    "\n",
    "train_df = df[df['year'] <= 2019]\n",
    "x_ref_df = train_df.drop(columns=['resale_price', 'nearest_stn', 'full_address', 'year'])\n",
    "# 1000 data from train\n",
    "x_ref_1000 = x_ref_df[:1000]\n",
    "\n",
    "test_df = df[df['year'] == 2023]\n",
    "x_test_df = test_df.drop(columns=['resale_price', 'nearest_stn', 'full_address', 'year'])\n",
    "# 1000 data from test\n",
    "x_test_1000 = x_test_df[:1000]\n",
    "\n",
    "columns = x_ref_df.columns\n",
    "\n",
    "\n",
    "categories_per_feature = {f: None for f in range(len(columns))}\n",
    "# -> {0: None, 1: None, 2: None, 3: None, 4: None, 5: None, 6: None, 7: None, 8: None, 9: None}\n",
    "\n",
    "x_ref_1000_numpy = x_ref_1000.to_numpy()\n",
    "x_test_1000_numpy = x_test_1000.to_numpy()\n",
    "\n",
    "\n",
    "cd = TabularDrift(x_ref_1000_numpy, p_val=.05,categories_per_feature=categories_per_feature)\n",
    "\n",
    "\n",
    "preds = cd.predict(x_test_1000_numpy)\n",
    "labels = ['No!', 'Yes!']\n",
    "print('Drift? {}'.format(labels[preds['data']['is_drift']]))"
   ]
  },
  {
   "cell_type": "code",
   "execution_count": 8,
   "metadata": {},
   "outputs": [
    {
     "name": "stdout",
     "output_type": "stream",
     "text": [
      "month -- Chi2 0.000 -- p-value 1.000\n",
      "town -- Chi2 667.474 -- p-value 0.000\n",
      "dist_to_nearest_stn -- K-S 1750.200 -- p-value 0.004\n",
      "dist_to_dhoby -- K-S 1750.200 -- p-value 0.004\n",
      "degree_centrality -- K-S 7.597 -- p-value 0.055\n",
      "eigenvector_centrality -- K-S 617.871 -- p-value 0.000\n",
      "flat_model_type -- Chi2 77.586 -- p-value 0.000\n",
      "remaining_lease_years -- K-S 1125.984 -- p-value 0.000\n",
      "floor_area_sqm -- K-S 259.979 -- p-value 0.000\n",
      "storey_range -- Chi2 38.800 -- p-value 0.001\n"
     ]
    }
   ],
   "source": [
    "cols_list = list(columns)\n",
    "categorical = ['month', 'town', 'flat_model_type', 'storey_range']\n",
    "\n",
    "for f in range(cd.n_features):\n",
    "    stat = 'Chi2' if cols_list[f] in categorical else 'K-S'\n",
    "    fname = cols_list[f]\n",
    "    stat_val, p_val = preds['data']['distance'][f], preds['data']['p_val'][f]\n",
    "    print(f'{fname} -- {stat} {stat_val:.3f} -- p-value {p_val:.3f}')"
   ]
  },
  {
   "cell_type": "markdown",
   "metadata": {
    "id": "Xmj3qq3PkJUf"
   },
   "source": [
    "> Assuming that the flurry of housing measures have made an impact on the relationship between all the features and resale_price (i.e. P(Y|X) changes), which type of data distribution shift possibly led to model degradation?\n"
   ]
  },
  {
   "cell_type": "markdown",
   "metadata": {
    "id": "5UOsX4JqkZ9S"
   },
   "source": [
    "\\# TODO: \\<Enter your answer here\\>\n",
    "\n",
    "Concept drift. The output (resale_price) have changed despite the same input (features)"
   ]
  },
  {
   "cell_type": "markdown",
   "metadata": {
    "id": "DM2OoOJdkZj1"
   },
   "source": [
    "> From your analysis via TabularDrift, which features contribute to this shift?\n"
   ]
  },
  {
   "cell_type": "code",
   "execution_count": 9,
   "metadata": {},
   "outputs": [
    {
     "name": "stdout",
     "output_type": "stream",
     "text": [
      "month -- Drift? No! -- Chi2 0.000 -- p-value 1.000\n",
      "town -- Drift? Yes! -- Chi2 667.474 -- p-value 0.000\n",
      "dist_to_nearest_stn -- Drift? Yes! -- K-S 1750.200 -- p-value 0.004\n",
      "dist_to_dhoby -- Drift? Yes! -- K-S 1750.200 -- p-value 0.004\n",
      "degree_centrality -- Drift? No! -- K-S 7.597 -- p-value 0.055\n",
      "eigenvector_centrality -- Drift? Yes! -- K-S 617.871 -- p-value 0.000\n",
      "flat_model_type -- Drift? Yes! -- Chi2 77.586 -- p-value 0.000\n",
      "remaining_lease_years -- Drift? Yes! -- K-S 1125.984 -- p-value 0.000\n",
      "floor_area_sqm -- Drift? Yes! -- K-S 259.979 -- p-value 0.000\n",
      "storey_range -- Drift? Yes! -- Chi2 38.800 -- p-value 0.001\n"
     ]
    }
   ],
   "source": [
    "# Analyse individual feature-wise drift results\n",
    "\n",
    "fpreds = cd.predict(x_test_1000_numpy, drift_type='feature')\n",
    "\n",
    "for f in range(cd.n_features):\n",
    "    stat = 'Chi2' if cols_list[f] in categorical else 'K-S'\n",
    "    fname = cols_list[f]\n",
    "    is_drift = fpreds['data']['is_drift'][f]\n",
    "    stat_val, p_val = fpreds['data']['distance'][f], fpreds['data']['p_val'][f]\n",
    "    print(f'{fname} -- Drift? {labels[is_drift]} -- {stat} {stat_val:.3f} -- p-value {p_val:.3f}')\n"
   ]
  },
  {
   "cell_type": "markdown",
   "metadata": {
    "id": "V3licBjskdLL"
   },
   "source": [
    "\\# TODO: \\<Enter your answer here\\>\n",
    "\n",
    "The features *town*, *dist_to_nearest_stn*, *dist_to_dhoby*, *eigenvector_centrality*, *flat_model_type*, *remaining_lease_years*, *floor_area_sqm*, *storey_range* contributed to the shift. These features all have p-value below 0.05"
   ]
  },
  {
   "cell_type": "markdown",
   "metadata": {
    "id": "yB3fSvKskhEJ"
   },
   "source": [
    "> Suggest 1 way to address model degradation and implement it, showing improved test R2 for year 2023.\n"
   ]
  },
  {
   "cell_type": "markdown",
   "metadata": {
    "id": "9UpP7K6Tkglx"
   },
   "source": [
    "\\# TODO: \\<Enter your answer here\\>\n",
    "\n",
    "Do additional training on the model using data from years 2020 to 2022 inclusive. <br>\n",
    "As shown below, the R2 score when tested on 2023 data improved to 0.598237314974788. This helps because this additional training data have taken into account the policy changes made in recent years."
   ]
  },
  {
   "cell_type": "code",
   "execution_count": 17,
   "metadata": {
    "id": "EqFinZObcYXu"
   },
   "outputs": [
    {
     "name": "stderr",
     "output_type": "stream",
     "text": [
      "Global seed set to 42\n",
      "2023-10-13 04:03:46,430 - {pytorch_tabular.tabular_model:473} - INFO - Preparing the DataLoaders\n",
      "2023-10-13 04:03:46,434 - {pytorch_tabular.tabular_datamodule:290} - INFO - Setting up the datamodule for regression task\n",
      "2023-10-13 04:03:46,527 - {pytorch_tabular.tabular_model:521} - INFO - Preparing the Model: CategoryEmbeddingModel\n",
      "/Users/limxinyi/Library/Python/3.9/lib/python/site-packages/pytorch_tabular/models/base_model.py:147: UserWarning: Plotly is not installed. Please install plotly to log logits. You can install plotly using pip install plotly or install PyTorch Tabular using pip install pytorch-tabular[all]\n",
      "  warnings.warn(\n",
      "2023-10-13 04:03:46,589 - {pytorch_tabular.tabular_model:268} - INFO - Preparing the Trainer\n",
      "/Users/limxinyi/Library/Python/3.9/lib/python/site-packages/pytorch_lightning/trainer/connectors/accelerator_connector.py:589: LightningDeprecationWarning: The Trainer argument `auto_select_gpus` has been deprecated in v1.9.0 and will be removed in v2.0.0. Please use the function `pytorch_lightning.accelerators.find_usable_cuda_devices` instead.\n",
      "  rank_zero_deprecation(\n",
      "GPU available: True (mps), used: True\n",
      "TPU available: False, using: 0 TPU cores\n",
      "IPU available: False, using: 0 IPUs\n",
      "HPU available: False, using: 0 HPUs\n",
      "2023-10-13 04:03:46,684 - {pytorch_tabular.tabular_model:582} - INFO - Training Started\n",
      "/Users/limxinyi/Library/Python/3.9/lib/python/site-packages/pytorch_lightning/callbacks/model_checkpoint.py:613: UserWarning: Checkpoint directory /Users/limxinyi/Desktop/Year 4/NN Assignment Restore/saved_models exists and is not empty.\n",
      "  rank_zero_warn(f\"Checkpoint directory {dirpath} exists and is not empty.\")\n"
     ]
    },
    {
     "data": {
      "text/html": [
       "<pre style=\"white-space:pre;overflow-x:auto;line-height:normal;font-family:Menlo,'DejaVu Sans Mono',consolas,'Courier New',monospace\">┏━━━┳━━━━━━━━━━━━━━━━━━┳━━━━━━━━━━━━━━━━━━━━━━━━━━━┳━━━━━━━━┓\n",
       "┃<span style=\"color: #800080; text-decoration-color: #800080; font-weight: bold\">   </span>┃<span style=\"color: #800080; text-decoration-color: #800080; font-weight: bold\"> Name             </span>┃<span style=\"color: #800080; text-decoration-color: #800080; font-weight: bold\"> Type                      </span>┃<span style=\"color: #800080; text-decoration-color: #800080; font-weight: bold\"> Params </span>┃\n",
       "┡━━━╇━━━━━━━━━━━━━━━━━━╇━━━━━━━━━━━━━━━━━━━━━━━━━━━╇━━━━━━━━┩\n",
       "│<span style=\"color: #7f7f7f; text-decoration-color: #7f7f7f\"> 0 </span>│ _backbone        │ CategoryEmbeddingBackbone │  1.2 K │\n",
       "│<span style=\"color: #7f7f7f; text-decoration-color: #7f7f7f\"> 1 </span>│ _embedding_layer │ Embedding1dLayer          │  1.6 K │\n",
       "│<span style=\"color: #7f7f7f; text-decoration-color: #7f7f7f\"> 2 </span>│ head             │ LinearHead                │      2 │\n",
       "│<span style=\"color: #7f7f7f; text-decoration-color: #7f7f7f\"> 3 </span>│ loss             │ MSELoss                   │      0 │\n",
       "└───┴──────────────────┴───────────────────────────┴────────┘\n",
       "</pre>\n"
      ],
      "text/plain": [
       "┏━━━┳━━━━━━━━━━━━━━━━━━┳━━━━━━━━━━━━━━━━━━━━━━━━━━━┳━━━━━━━━┓\n",
       "┃\u001b[1;35m \u001b[0m\u001b[1;35m \u001b[0m\u001b[1;35m \u001b[0m┃\u001b[1;35m \u001b[0m\u001b[1;35mName            \u001b[0m\u001b[1;35m \u001b[0m┃\u001b[1;35m \u001b[0m\u001b[1;35mType                     \u001b[0m\u001b[1;35m \u001b[0m┃\u001b[1;35m \u001b[0m\u001b[1;35mParams\u001b[0m\u001b[1;35m \u001b[0m┃\n",
       "┡━━━╇━━━━━━━━━━━━━━━━━━╇━━━━━━━━━━━━━━━━━━━━━━━━━━━╇━━━━━━━━┩\n",
       "│\u001b[2m \u001b[0m\u001b[2m0\u001b[0m\u001b[2m \u001b[0m│ _backbone        │ CategoryEmbeddingBackbone │  1.2 K │\n",
       "│\u001b[2m \u001b[0m\u001b[2m1\u001b[0m\u001b[2m \u001b[0m│ _embedding_layer │ Embedding1dLayer          │  1.6 K │\n",
       "│\u001b[2m \u001b[0m\u001b[2m2\u001b[0m\u001b[2m \u001b[0m│ head             │ LinearHead                │      2 │\n",
       "│\u001b[2m \u001b[0m\u001b[2m3\u001b[0m\u001b[2m \u001b[0m│ loss             │ MSELoss                   │      0 │\n",
       "└───┴──────────────────┴───────────────────────────┴────────┘\n"
      ]
     },
     "metadata": {},
     "output_type": "display_data"
    },
    {
     "data": {
      "text/html": [
       "<pre style=\"white-space:pre;overflow-x:auto;line-height:normal;font-family:Menlo,'DejaVu Sans Mono',consolas,'Courier New',monospace\"><span style=\"font-weight: bold\">Trainable params</span>: 2.8 K                                                                                            \n",
       "<span style=\"font-weight: bold\">Non-trainable params</span>: 0                                                                                            \n",
       "<span style=\"font-weight: bold\">Total params</span>: 2.8 K                                                                                                \n",
       "<span style=\"font-weight: bold\">Total estimated model params size (MB)</span>: 0                                                                          \n",
       "</pre>\n"
      ],
      "text/plain": [
       "\u001b[1mTrainable params\u001b[0m: 2.8 K                                                                                            \n",
       "\u001b[1mNon-trainable params\u001b[0m: 0                                                                                            \n",
       "\u001b[1mTotal params\u001b[0m: 2.8 K                                                                                                \n",
       "\u001b[1mTotal estimated model params size (MB)\u001b[0m: 0                                                                          \n"
      ]
     },
     "metadata": {},
     "output_type": "display_data"
    },
    {
     "data": {
      "application/vnd.jupyter.widget-view+json": {
       "model_id": "c872ba0e22c648c79cc182c220d0f12d",
       "version_major": 2,
       "version_minor": 0
      },
      "text/plain": [
       "Output()"
      ]
     },
     "metadata": {},
     "output_type": "display_data"
    },
    {
     "data": {
      "text/html": [
       "<pre style=\"white-space:pre;overflow-x:auto;line-height:normal;font-family:Menlo,'DejaVu Sans Mono',consolas,'Courier New',monospace\">/Users/limxinyi/Library/Python/3.9/lib/python/site-packages/pytorch_lightning/trainer/connectors/data_connector.py:\n",
       "224: PossibleUserWarning: The dataloader, val_dataloader 0, does not have many workers which may be a bottleneck. \n",
       "Consider increasing the value of the `num_workers` argument` (try 8 which is the number of cpus on this machine) in\n",
       "the `DataLoader` init to improve performance.\n",
       "  rank_zero_warn(\n",
       "</pre>\n"
      ],
      "text/plain": [
       "/Users/limxinyi/Library/Python/3.9/lib/python/site-packages/pytorch_lightning/trainer/connectors/data_connector.py:\n",
       "224: PossibleUserWarning: The dataloader, val_dataloader 0, does not have many workers which may be a bottleneck. \n",
       "Consider increasing the value of the `num_workers` argument` (try 8 which is the number of cpus on this machine) in\n",
       "the `DataLoader` init to improve performance.\n",
       "  rank_zero_warn(\n"
      ]
     },
     "metadata": {},
     "output_type": "display_data"
    },
    {
     "data": {
      "text/html": [
       "<pre style=\"white-space:pre;overflow-x:auto;line-height:normal;font-family:Menlo,'DejaVu Sans Mono',consolas,'Courier New',monospace\">/Users/limxinyi/Library/Python/3.9/lib/python/site-packages/pytorch_lightning/core/module.py:493: UserWarning: You \n",
       "called `self.log('valid_loss', ..., logger=True)` but have no logger configured. You can enable one by doing \n",
       "`Trainer(logger=ALogger(...))`\n",
       "  rank_zero_warn(\n",
       "</pre>\n"
      ],
      "text/plain": [
       "/Users/limxinyi/Library/Python/3.9/lib/python/site-packages/pytorch_lightning/core/module.py:493: UserWarning: You \n",
       "called `self.log('valid_loss', ..., logger=True)` but have no logger configured. You can enable one by doing \n",
       "`Trainer(logger=ALogger(...))`\n",
       "  rank_zero_warn(\n"
      ]
     },
     "metadata": {},
     "output_type": "display_data"
    },
    {
     "data": {
      "text/html": [
       "<pre style=\"white-space:pre;overflow-x:auto;line-height:normal;font-family:Menlo,'DejaVu Sans Mono',consolas,'Courier New',monospace\">/Users/limxinyi/Library/Python/3.9/lib/python/site-packages/pytorch_lightning/core/module.py:493: UserWarning: You \n",
       "called `self.log('valid_mean_squared_error', ..., logger=True)` but have no logger configured. You can enable one \n",
       "by doing `Trainer(logger=ALogger(...))`\n",
       "  rank_zero_warn(\n",
       "</pre>\n"
      ],
      "text/plain": [
       "/Users/limxinyi/Library/Python/3.9/lib/python/site-packages/pytorch_lightning/core/module.py:493: UserWarning: You \n",
       "called `self.log('valid_mean_squared_error', ..., logger=True)` but have no logger configured. You can enable one \n",
       "by doing `Trainer(logger=ALogger(...))`\n",
       "  rank_zero_warn(\n"
      ]
     },
     "metadata": {},
     "output_type": "display_data"
    },
    {
     "data": {
      "text/html": [
       "<pre style=\"white-space:pre;overflow-x:auto;line-height:normal;font-family:Menlo,'DejaVu Sans Mono',consolas,'Courier New',monospace\">/Users/limxinyi/Library/Python/3.9/lib/python/site-packages/pytorch_lightning/trainer/connectors/data_connector.py:\n",
       "224: PossibleUserWarning: The dataloader, train_dataloader, does not have many workers which may be a bottleneck. \n",
       "Consider increasing the value of the `num_workers` argument` (try 8 which is the number of cpus on this machine) in\n",
       "the `DataLoader` init to improve performance.\n",
       "  rank_zero_warn(\n",
       "</pre>\n"
      ],
      "text/plain": [
       "/Users/limxinyi/Library/Python/3.9/lib/python/site-packages/pytorch_lightning/trainer/connectors/data_connector.py:\n",
       "224: PossibleUserWarning: The dataloader, train_dataloader, does not have many workers which may be a bottleneck. \n",
       "Consider increasing the value of the `num_workers` argument` (try 8 which is the number of cpus on this machine) in\n",
       "the `DataLoader` init to improve performance.\n",
       "  rank_zero_warn(\n"
      ]
     },
     "metadata": {},
     "output_type": "display_data"
    },
    {
     "data": {
      "text/html": [
       "<pre style=\"white-space:pre;overflow-x:auto;line-height:normal;font-family:Menlo,'DejaVu Sans Mono',consolas,'Courier New',monospace\">/Users/limxinyi/Library/Python/3.9/lib/python/site-packages/pytorch_lightning/core/module.py:493: UserWarning: You \n",
       "called `self.log('train_loss', ..., logger=True)` but have no logger configured. You can enable one by doing \n",
       "`Trainer(logger=ALogger(...))`\n",
       "  rank_zero_warn(\n",
       "</pre>\n"
      ],
      "text/plain": [
       "/Users/limxinyi/Library/Python/3.9/lib/python/site-packages/pytorch_lightning/core/module.py:493: UserWarning: You \n",
       "called `self.log('train_loss', ..., logger=True)` but have no logger configured. You can enable one by doing \n",
       "`Trainer(logger=ALogger(...))`\n",
       "  rank_zero_warn(\n"
      ]
     },
     "metadata": {},
     "output_type": "display_data"
    },
    {
     "data": {
      "text/html": [
       "<pre style=\"white-space:pre;overflow-x:auto;line-height:normal;font-family:Menlo,'DejaVu Sans Mono',consolas,'Courier New',monospace\">/Users/limxinyi/Library/Python/3.9/lib/python/site-packages/pytorch_lightning/core/module.py:493: UserWarning: You \n",
       "called `self.log('train_mean_squared_error', ..., logger=True)` but have no logger configured. You can enable one \n",
       "by doing `Trainer(logger=ALogger(...))`\n",
       "  rank_zero_warn(\n",
       "</pre>\n"
      ],
      "text/plain": [
       "/Users/limxinyi/Library/Python/3.9/lib/python/site-packages/pytorch_lightning/core/module.py:493: UserWarning: You \n",
       "called `self.log('train_mean_squared_error', ..., logger=True)` but have no logger configured. You can enable one \n",
       "by doing `Trainer(logger=ALogger(...))`\n",
       "  rank_zero_warn(\n"
      ]
     },
     "metadata": {},
     "output_type": "display_data"
    },
    {
     "name": "stderr",
     "output_type": "stream",
     "text": [
      "`Trainer.fit` stopped: `max_epochs=50` reached.\n"
     ]
    },
    {
     "data": {
      "text/html": [
       "<pre style=\"white-space:pre;overflow-x:auto;line-height:normal;font-family:Menlo,'DejaVu Sans Mono',consolas,'Courier New',monospace\"></pre>\n"
      ],
      "text/plain": []
     },
     "metadata": {},
     "output_type": "display_data"
    },
    {
     "data": {
      "text/html": [
       "<pre style=\"white-space:pre;overflow-x:auto;line-height:normal;font-family:Menlo,'DejaVu Sans Mono',consolas,'Courier New',monospace\">\n",
       "</pre>\n"
      ],
      "text/plain": [
       "\n"
      ]
     },
     "metadata": {},
     "output_type": "display_data"
    },
    {
     "name": "stderr",
     "output_type": "stream",
     "text": [
      "2023-10-13 04:06:54,075 - {pytorch_tabular.tabular_model:584} - INFO - Training the model completed\n",
      "2023-10-13 04:06:54,075 - {pytorch_tabular.tabular_model:1258} - INFO - Loading the best model\n"
     ]
    },
    {
     "data": {
      "application/vnd.jupyter.widget-view+json": {
       "model_id": "21f986b025354f0990f2bb9b72657b36",
       "version_major": 2,
       "version_minor": 0
      },
      "text/plain": [
       "Output()"
      ]
     },
     "metadata": {},
     "output_type": "display_data"
    },
    {
     "data": {
      "text/html": [
       "<pre style=\"white-space:pre;overflow-x:auto;line-height:normal;font-family:Menlo,'DejaVu Sans Mono',consolas,'Courier New',monospace\">/Users/limxinyi/Library/Python/3.9/lib/python/site-packages/pytorch_lightning/core/module.py:493: UserWarning: You \n",
       "called `self.log('test_loss', ..., logger=True)` but have no logger configured. You can enable one by doing \n",
       "`Trainer(logger=ALogger(...))`\n",
       "  rank_zero_warn(\n",
       "</pre>\n"
      ],
      "text/plain": [
       "/Users/limxinyi/Library/Python/3.9/lib/python/site-packages/pytorch_lightning/core/module.py:493: UserWarning: You \n",
       "called `self.log('test_loss', ..., logger=True)` but have no logger configured. You can enable one by doing \n",
       "`Trainer(logger=ALogger(...))`\n",
       "  rank_zero_warn(\n"
      ]
     },
     "metadata": {},
     "output_type": "display_data"
    },
    {
     "data": {
      "text/html": [
       "<pre style=\"white-space:pre;overflow-x:auto;line-height:normal;font-family:Menlo,'DejaVu Sans Mono',consolas,'Courier New',monospace\">/Users/limxinyi/Library/Python/3.9/lib/python/site-packages/pytorch_lightning/core/module.py:493: UserWarning: You \n",
       "called `self.log('test_mean_squared_error', ..., logger=True)` but have no logger configured. You can enable one by\n",
       "doing `Trainer(logger=ALogger(...))`\n",
       "  rank_zero_warn(\n",
       "</pre>\n"
      ],
      "text/plain": [
       "/Users/limxinyi/Library/Python/3.9/lib/python/site-packages/pytorch_lightning/core/module.py:493: UserWarning: You \n",
       "called `self.log('test_mean_squared_error', ..., logger=True)` but have no logger configured. You can enable one by\n",
       "doing `Trainer(logger=ALogger(...))`\n",
       "  rank_zero_warn(\n"
      ]
     },
     "metadata": {},
     "output_type": "display_data"
    },
    {
     "name": "stderr",
     "output_type": "stream",
     "text": [
      "/Users/limxinyi/Library/Python/3.9/lib/python/site-packages/pytorch_lightning/utilities/cloud_io.py:33: LightningDeprecationWarning: `pytorch_lightning.utilities.cloud_io.get_filesystem` has been deprecated in v1.8.0 and will be removed in v2.0.0. Please use `lightning_fabric.utilities.cloud_io.get_filesystem` instead.\n",
      "  rank_zero_deprecation(\n",
      "/Users/limxinyi/Library/Python/3.9/lib/python/site-packages/pytorch_lightning/trainer/connectors/data_connector.py:224: PossibleUserWarning: The dataloader, test_dataloader 0, does not have many workers which may be a bottleneck. Consider increasing the value of the `num_workers` argument` (try 8 which is the number of cpus on this machine) in the `DataLoader` init to improve performance.\n",
      "  rank_zero_warn(\n"
     ]
    },
    {
     "data": {
      "text/html": [
       "<pre style=\"white-space:pre;overflow-x:auto;line-height:normal;font-family:Menlo,'DejaVu Sans Mono',consolas,'Courier New',monospace\">┏━━━━━━━━━━━━━━━━━━━━━━━━━━━┳━━━━━━━━━━━━━━━━━━━━━━━━━━━┓\n",
       "┃<span style=\"font-weight: bold\">        Test metric        </span>┃<span style=\"font-weight: bold\">       DataLoader 0        </span>┃\n",
       "┡━━━━━━━━━━━━━━━━━━━━━━━━━━━╇━━━━━━━━━━━━━━━━━━━━━━━━━━━┩\n",
       "│<span style=\"color: #008080; text-decoration-color: #008080\">         test_loss         </span>│<span style=\"color: #800080; text-decoration-color: #800080\">       11844365312.0       </span>│\n",
       "│<span style=\"color: #008080; text-decoration-color: #008080\">  test_mean_squared_error  </span>│<span style=\"color: #800080; text-decoration-color: #800080\">       11844365312.0       </span>│\n",
       "└───────────────────────────┴───────────────────────────┘\n",
       "</pre>\n"
      ],
      "text/plain": [
       "┏━━━━━━━━━━━━━━━━━━━━━━━━━━━┳━━━━━━━━━━━━━━━━━━━━━━━━━━━┓\n",
       "┃\u001b[1m \u001b[0m\u001b[1m       Test metric       \u001b[0m\u001b[1m \u001b[0m┃\u001b[1m \u001b[0m\u001b[1m      DataLoader 0       \u001b[0m\u001b[1m \u001b[0m┃\n",
       "┡━━━━━━━━━━━━━━━━━━━━━━━━━━━╇━━━━━━━━━━━━━━━━━━━━━━━━━━━┩\n",
       "│\u001b[36m \u001b[0m\u001b[36m        test_loss        \u001b[0m\u001b[36m \u001b[0m│\u001b[35m \u001b[0m\u001b[35m      11844365312.0      \u001b[0m\u001b[35m \u001b[0m│\n",
       "│\u001b[36m \u001b[0m\u001b[36m test_mean_squared_error \u001b[0m\u001b[36m \u001b[0m│\u001b[35m \u001b[0m\u001b[35m      11844365312.0      \u001b[0m\u001b[35m \u001b[0m│\n",
       "└───────────────────────────┴───────────────────────────┘\n"
      ]
     },
     "metadata": {},
     "output_type": "display_data"
    },
    {
     "data": {
      "text/html": [
       "<pre style=\"white-space:pre;overflow-x:auto;line-height:normal;font-family:Menlo,'DejaVu Sans Mono',consolas,'Courier New',monospace\"></pre>\n"
      ],
      "text/plain": []
     },
     "metadata": {},
     "output_type": "display_data"
    },
    {
     "data": {
      "text/html": [
       "<pre style=\"white-space:pre;overflow-x:auto;line-height:normal;font-family:Menlo,'DejaVu Sans Mono',consolas,'Courier New',monospace\">\n",
       "</pre>\n"
      ],
      "text/plain": [
       "\n"
      ]
     },
     "metadata": {},
     "output_type": "display_data"
    },
    {
     "data": {
      "application/vnd.jupyter.widget-view+json": {
       "model_id": "360de64ac19d46e4b5a09c933c7b25d2",
       "version_major": 2,
       "version_minor": 0
      },
      "text/plain": [
       "Output()"
      ]
     },
     "metadata": {},
     "output_type": "display_data"
    },
    {
     "data": {
      "text/html": [
       "<pre style=\"white-space:pre;overflow-x:auto;line-height:normal;font-family:Menlo,'DejaVu Sans Mono',consolas,'Courier New',monospace\"></pre>\n"
      ],
      "text/plain": []
     },
     "metadata": {},
     "output_type": "display_data"
    },
    {
     "data": {
      "text/html": [
       "<pre style=\"white-space:pre;overflow-x:auto;line-height:normal;font-family:Menlo,'DejaVu Sans Mono',consolas,'Courier New',monospace\">\n",
       "</pre>\n"
      ],
      "text/plain": [
       "\n"
      ]
     },
     "metadata": {},
     "output_type": "display_data"
    },
    {
     "name": "stdout",
     "output_type": "stream",
     "text": [
      "R2 score for 2023 test set:  0.598237314974788\n"
     ]
    }
   ],
   "source": [
    "# TODO: Enter your code here\n",
    "until_2022 = df[df['year'] <= 2022]\n",
    "from_2020_to_2022 = until_2022[until_2022['year'] >= 2020]\n",
    "retrained_model = train(model, from_2020_to_2022)\n",
    "\n",
    "# Define test dataset\n",
    "test_df_2023 = df[df['year'] == 2023]\n",
    "\n",
    "r2_2023 = eval(model, test_df_2023)\n",
    "print(\"R2 score for 2023 test set: \", r2_2023)\n"
   ]
  },
  {
   "cell_type": "markdown",
   "metadata": {
    "id": "wQG9hZvAaq5g"
   },
   "source": [
    "### Appendix A\n",
    "\n"
   ]
  },
  {
   "cell_type": "markdown",
   "metadata": {
    "id": "G_ARi2OxbDuZ"
   },
   "source": [
    "Here are our results from a linear regression model. We used StandardScaler for continuous variables and OneHotEncoder for categorical variables.\n",
    "\n",
    "While 2021 data can be predicted well, test R2 dropped rapidly for 2022 and 2023.\n",
    "\n",
    "| Training set | Test set | Test R2 |\n",
    "|--------------|----------|---------|\n",
    "| Year <= 2020 | 2021     | 0.76    |\n",
    "| Year <= 2020 | **2022**     | 0.41    |\n",
    "| Year <= 2020 | **2023**     | **0.10**   |\n",
    "\n"
   ]
  },
  {
   "cell_type": "markdown",
   "metadata": {
    "id": "vmv91FqgbI8h"
   },
   "source": [
    "Similarly, a model trained on 2017 data can predict 2018-2021 well (with slight degradation in performance for 2021), but drops drastically in 2022 and 2023.\n",
    "\n",
    "| Training set | Test set | Test R2 |\n",
    "|--------------|----------|---------|\n",
    "| 2017         | 2018     | 0.90    |\n",
    "|              | 2019     | 0.89    |\n",
    "|              | 2020     | 0.87    |\n",
    "|              | 2021     | 0.72    |\n",
    "|              | **2022**     | **0.37**    |\n",
    "|              | **2023**     | **0.09**    |"
   ]
  },
  {
   "cell_type": "markdown",
   "metadata": {
    "id": "ayKGs106bI6S"
   },
   "source": [
    "With the test set fixed at year 2021, training on data from 2017-2020 still works well on the test data, with minimal degradation. Training sets closer to year 2021 generally do better.\n",
    "\n",
    "| Training set | Test set | Test R2 |\n",
    "|--------------|----------|---------|\n",
    "| 2020         | 2021     | 0.81    |\n",
    "| 2019         | 2021     | 0.75    |\n",
    "| 2018         | 2021     | 0.73    |\n",
    "| 2017         | 2021     | 0.72    |"
   ]
  }
 ],
 "metadata": {
  "colab": {
   "authorship_tag": "ABX9TyNWUKTcEICJ0j/YcXkGkr53",
   "collapsed_sections": [
    "wQG9hZvAaq5g"
   ],
   "provenance": []
  },
  "kernelspec": {
   "display_name": "Python 3 (ipykernel)",
   "language": "python",
   "name": "python3"
  },
  "language_info": {
   "codemirror_mode": {
    "name": "ipython",
    "version": 3
   },
   "file_extension": ".py",
   "mimetype": "text/x-python",
   "name": "python",
   "nbconvert_exporter": "python",
   "pygments_lexer": "ipython3",
   "version": "3.9.6"
  }
 },
 "nbformat": 4,
 "nbformat_minor": 1
}
