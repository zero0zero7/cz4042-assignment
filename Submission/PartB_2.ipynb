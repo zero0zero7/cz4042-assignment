{
 "cells": [
  {
   "cell_type": "markdown",
   "metadata": {
    "id": "NFVxWZGJxprU"
   },
   "source": [
    "# CS4001/4042 Assignment 1, Part B, Q2\n",
    "In Question B1, we used the Category Embedding model. This creates a feedforward neural network in which the categorical features get learnable embeddings. In this question, we will make use of a library called Pytorch-WideDeep. This library makes it easy to work with multimodal deep-learning problems combining images, text, and tables. We will just be utilizing the deeptabular component of this library through the TabMlp network:"
   ]
  },
  {
   "cell_type": "code",
   "execution_count": 1,
   "metadata": {
    "id": "EycCozG06Duu"
   },
   "outputs": [
    {
     "name": "stdout",
     "output_type": "stream",
     "text": [
      "Defaulting to user installation because normal site-packages is not writeable\n",
      "Requirement already satisfied: pytorch-widedeep in /Users/limxinyi/Library/Python/3.9/lib/python/site-packages (1.3.2)\n",
      "Requirement already satisfied: pandas>=1.3.5 in /Users/limxinyi/Library/Python/3.9/lib/python/site-packages (from pytorch-widedeep) (2.1.1)\n",
      "Requirement already satisfied: numpy>=1.21.6 in /Users/limxinyi/Library/Python/3.9/lib/python/site-packages (from pytorch-widedeep) (1.24.3)\n",
      "Requirement already satisfied: scipy>=1.7.3 in /Users/limxinyi/Library/Python/3.9/lib/python/site-packages (from pytorch-widedeep) (1.11.3)\n",
      "Requirement already satisfied: scikit-learn>=1.0.2 in /Users/limxinyi/Library/Python/3.9/lib/python/site-packages (from pytorch-widedeep) (1.3.1)\n",
      "Requirement already satisfied: gensim in /Users/limxinyi/Library/Python/3.9/lib/python/site-packages (from pytorch-widedeep) (4.3.2)\n",
      "Requirement already satisfied: spacy in /Users/limxinyi/Library/Python/3.9/lib/python/site-packages (from pytorch-widedeep) (3.7.0)\n",
      "Requirement already satisfied: opencv-contrib-python in /Users/limxinyi/Library/Python/3.9/lib/python/site-packages (from pytorch-widedeep) (4.8.1.78)\n",
      "Requirement already satisfied: imutils in /Users/limxinyi/Library/Python/3.9/lib/python/site-packages (from pytorch-widedeep) (0.5.4)\n",
      "Requirement already satisfied: tqdm in /Users/limxinyi/Library/Python/3.9/lib/python/site-packages (from pytorch-widedeep) (4.66.1)\n",
      "Requirement already satisfied: torch in /Users/limxinyi/Library/Python/3.9/lib/python/site-packages (from pytorch-widedeep) (1.13.1)\n",
      "Requirement already satisfied: torchvision in /Users/limxinyi/Library/Python/3.9/lib/python/site-packages (from pytorch-widedeep) (0.15.2)\n",
      "Requirement already satisfied: einops in /Users/limxinyi/Library/Python/3.9/lib/python/site-packages (from pytorch-widedeep) (0.6.1)\n",
      "Requirement already satisfied: wrapt in /Users/limxinyi/Library/Python/3.9/lib/python/site-packages (from pytorch-widedeep) (1.15.0)\n",
      "Requirement already satisfied: torchmetrics in /Users/limxinyi/Library/Python/3.9/lib/python/site-packages (from pytorch-widedeep) (0.11.4)\n",
      "Requirement already satisfied: pyarrow in /Users/limxinyi/Library/Python/3.9/lib/python/site-packages (from pytorch-widedeep) (13.0.0)\n",
      "Requirement already satisfied: fastparquet>=0.8.1 in /Users/limxinyi/Library/Python/3.9/lib/python/site-packages (from pytorch-widedeep) (2023.8.0)\n",
      "Requirement already satisfied: cramjam>=2.3 in /Users/limxinyi/Library/Python/3.9/lib/python/site-packages (from fastparquet>=0.8.1->pytorch-widedeep) (2.7.0)\n",
      "Requirement already satisfied: fsspec in /Users/limxinyi/Library/Python/3.9/lib/python/site-packages (from fastparquet>=0.8.1->pytorch-widedeep) (2023.9.2)\n",
      "Requirement already satisfied: packaging in /Users/limxinyi/Library/Python/3.9/lib/python/site-packages (from fastparquet>=0.8.1->pytorch-widedeep) (23.1)\n",
      "Requirement already satisfied: python-dateutil>=2.8.2 in /Users/limxinyi/Library/Python/3.9/lib/python/site-packages (from pandas>=1.3.5->pytorch-widedeep) (2.8.2)\n",
      "Requirement already satisfied: pytz>=2020.1 in /Users/limxinyi/Library/Python/3.9/lib/python/site-packages (from pandas>=1.3.5->pytorch-widedeep) (2023.3.post1)\n",
      "Requirement already satisfied: tzdata>=2022.1 in /Users/limxinyi/Library/Python/3.9/lib/python/site-packages (from pandas>=1.3.5->pytorch-widedeep) (2023.3)\n",
      "Requirement already satisfied: joblib>=1.1.1 in /Users/limxinyi/Library/Python/3.9/lib/python/site-packages (from scikit-learn>=1.0.2->pytorch-widedeep) (1.3.2)\n",
      "Requirement already satisfied: threadpoolctl>=2.0.0 in /Users/limxinyi/Library/Python/3.9/lib/python/site-packages (from scikit-learn>=1.0.2->pytorch-widedeep) (3.2.0)\n",
      "Requirement already satisfied: smart-open>=1.8.1 in /Users/limxinyi/Library/Python/3.9/lib/python/site-packages (from gensim->pytorch-widedeep) (6.4.0)\n",
      "Requirement already satisfied: spacy-legacy<3.1.0,>=3.0.11 in /Users/limxinyi/Library/Python/3.9/lib/python/site-packages (from spacy->pytorch-widedeep) (3.0.12)\n",
      "Requirement already satisfied: spacy-loggers<2.0.0,>=1.0.0 in /Users/limxinyi/Library/Python/3.9/lib/python/site-packages (from spacy->pytorch-widedeep) (1.0.5)\n",
      "Requirement already satisfied: murmurhash<1.1.0,>=0.28.0 in /Users/limxinyi/Library/Python/3.9/lib/python/site-packages (from spacy->pytorch-widedeep) (1.0.10)\n",
      "Requirement already satisfied: cymem<2.1.0,>=2.0.2 in /Users/limxinyi/Library/Python/3.9/lib/python/site-packages (from spacy->pytorch-widedeep) (2.0.8)\n",
      "Requirement already satisfied: preshed<3.1.0,>=3.0.2 in /Users/limxinyi/Library/Python/3.9/lib/python/site-packages (from spacy->pytorch-widedeep) (3.0.9)\n",
      "Requirement already satisfied: thinc<8.3.0,>=8.1.8 in /Users/limxinyi/Library/Python/3.9/lib/python/site-packages (from spacy->pytorch-widedeep) (8.2.1)\n",
      "Requirement already satisfied: wasabi<1.2.0,>=0.9.1 in /Users/limxinyi/Library/Python/3.9/lib/python/site-packages (from spacy->pytorch-widedeep) (1.1.2)\n",
      "Requirement already satisfied: srsly<3.0.0,>=2.4.3 in /Users/limxinyi/Library/Python/3.9/lib/python/site-packages (from spacy->pytorch-widedeep) (2.4.8)\n",
      "Requirement already satisfied: catalogue<2.1.0,>=2.0.6 in /Users/limxinyi/Library/Python/3.9/lib/python/site-packages (from spacy->pytorch-widedeep) (2.0.10)\n",
      "Requirement already satisfied: weasel<0.4.0,>=0.1.0 in /Users/limxinyi/Library/Python/3.9/lib/python/site-packages (from spacy->pytorch-widedeep) (0.3.2)\n",
      "Requirement already satisfied: typer<0.10.0,>=0.3.0 in /Users/limxinyi/Library/Python/3.9/lib/python/site-packages (from spacy->pytorch-widedeep) (0.9.0)\n",
      "Requirement already satisfied: pathy>=0.10.0 in /Users/limxinyi/Library/Python/3.9/lib/python/site-packages (from spacy->pytorch-widedeep) (0.10.2)\n",
      "Requirement already satisfied: requests<3.0.0,>=2.13.0 in /Users/limxinyi/Library/Python/3.9/lib/python/site-packages (from spacy->pytorch-widedeep) (2.31.0)\n",
      "Requirement already satisfied: pydantic!=1.8,!=1.8.1,<3.0.0,>=1.7.4 in /Users/limxinyi/Library/Python/3.9/lib/python/site-packages (from spacy->pytorch-widedeep) (1.10.13)\n",
      "Requirement already satisfied: jinja2 in /Users/limxinyi/Library/Python/3.9/lib/python/site-packages (from spacy->pytorch-widedeep) (3.1.2)\n",
      "Requirement already satisfied: setuptools in /Library/Developer/CommandLineTools/Library/Frameworks/Python3.framework/Versions/3.9/lib/python3.9/site-packages (from spacy->pytorch-widedeep) (58.0.4)\n",
      "Requirement already satisfied: langcodes<4.0.0,>=3.2.0 in /Users/limxinyi/Library/Python/3.9/lib/python/site-packages (from spacy->pytorch-widedeep) (3.3.0)\n",
      "Requirement already satisfied: typing-extensions in /Users/limxinyi/Library/Python/3.9/lib/python/site-packages (from torch->pytorch-widedeep) (4.8.0)\n",
      "Collecting torch (from pytorch-widedeep)\n",
      "  Using cached torch-2.0.1-cp39-none-macosx_11_0_arm64.whl (55.8 MB)\n",
      "Requirement already satisfied: pillow!=8.3.*,>=5.3.0 in /Users/limxinyi/Library/Python/3.9/lib/python/site-packages (from torchvision->pytorch-widedeep) (9.5.0)\n",
      "Requirement already satisfied: filelock in /Users/limxinyi/Library/Python/3.9/lib/python/site-packages (from torch->pytorch-widedeep) (3.12.3)\n",
      "Requirement already satisfied: sympy in /Users/limxinyi/Library/Python/3.9/lib/python/site-packages (from torch->pytorch-widedeep) (1.12)\n",
      "Requirement already satisfied: networkx in /Users/limxinyi/Library/Python/3.9/lib/python/site-packages (from torch->pytorch-widedeep) (3.1)\n",
      "Requirement already satisfied: six>=1.5 in /Library/Developer/CommandLineTools/Library/Frameworks/Python3.framework/Versions/3.9/lib/python3.9/site-packages (from python-dateutil>=2.8.2->pandas>=1.3.5->pytorch-widedeep) (1.15.0)\n",
      "Requirement already satisfied: charset-normalizer<4,>=2 in /Users/limxinyi/Library/Python/3.9/lib/python/site-packages (from requests<3.0.0,>=2.13.0->spacy->pytorch-widedeep) (3.2.0)\n",
      "Requirement already satisfied: idna<4,>=2.5 in /Users/limxinyi/Library/Python/3.9/lib/python/site-packages (from requests<3.0.0,>=2.13.0->spacy->pytorch-widedeep) (3.4)\n",
      "Requirement already satisfied: urllib3<3,>=1.21.1 in /Users/limxinyi/Library/Python/3.9/lib/python/site-packages (from requests<3.0.0,>=2.13.0->spacy->pytorch-widedeep) (1.26.16)\n",
      "Requirement already satisfied: certifi>=2017.4.17 in /Users/limxinyi/Library/Python/3.9/lib/python/site-packages (from requests<3.0.0,>=2.13.0->spacy->pytorch-widedeep) (2023.7.22)\n",
      "Requirement already satisfied: blis<0.8.0,>=0.7.8 in /Users/limxinyi/Library/Python/3.9/lib/python/site-packages (from thinc<8.3.0,>=8.1.8->spacy->pytorch-widedeep) (0.7.11)\n",
      "Requirement already satisfied: confection<1.0.0,>=0.0.1 in /Users/limxinyi/Library/Python/3.9/lib/python/site-packages (from thinc<8.3.0,>=8.1.8->spacy->pytorch-widedeep) (0.1.3)\n",
      "Requirement already satisfied: click<9.0.0,>=7.1.1 in /Users/limxinyi/Library/Python/3.9/lib/python/site-packages (from typer<0.10.0,>=0.3.0->spacy->pytorch-widedeep) (8.1.7)\n",
      "Requirement already satisfied: cloudpathlib<0.16.0,>=0.7.0 in /Users/limxinyi/Library/Python/3.9/lib/python/site-packages (from weasel<0.4.0,>=0.1.0->spacy->pytorch-widedeep) (0.15.1)\n",
      "Requirement already satisfied: MarkupSafe>=2.0 in /Users/limxinyi/Library/Python/3.9/lib/python/site-packages (from jinja2->spacy->pytorch-widedeep) (2.1.3)\n",
      "Requirement already satisfied: mpmath>=0.19 in /Users/limxinyi/Library/Python/3.9/lib/python/site-packages (from sympy->torch->pytorch-widedeep) (1.3.0)\n",
      "Installing collected packages: torch\n",
      "  Attempting uninstall: torch\n",
      "    Found existing installation: torch 1.13.1\n",
      "    Uninstalling torch-1.13.1:\n",
      "      Successfully uninstalled torch-1.13.1\n",
      "\u001b[31mERROR: pip's dependency resolver does not currently take into account all the packages that are installed. This behaviour is the source of the following dependency conflicts.\n",
      "pytorch-tabnet 4.0 requires torch<2.0,>=1.2, but you have torch 2.0.1 which is incompatible.\u001b[0m\u001b[31m\n",
      "\u001b[0mSuccessfully installed torch-2.0.1\n"
     ]
    }
   ],
   "source": [
    "!pip install pytorch-widedeep"
   ]
  },
  {
   "cell_type": "code",
   "execution_count": 2,
   "metadata": {
    "id": "lq0elU0J53Yo"
   },
   "outputs": [],
   "source": [
    "SEED = 42\n",
    "\n",
    "import os\n",
    "\n",
    "import random\n",
    "random.seed(SEED)\n",
    "\n",
    "import numpy as np\n",
    "np.random.seed(SEED)\n",
    "\n",
    "import pandas as pd\n",
    "\n",
    "from pytorch_widedeep.preprocessing import TabPreprocessor\n",
    "from pytorch_widedeep.models import TabMlp, WideDeep\n",
    "from pytorch_widedeep import Trainer\n",
    "from pytorch_widedeep.metrics import R2Score\n",
    "\n",
    "import torch\n",
    "from pytorch_widedeep.models import Wide\n",
    "import math\n",
    "from sklearn.metrics import mean_squared_error, r2_score\n"
   ]
  },
  {
   "cell_type": "markdown",
   "metadata": {
    "id": "aU3xdVpwzuLx"
   },
   "source": [
    ">Divide the dataset (‘hdb_price_prediction.csv’) into train and test sets by using entries from the year 2020 and before as training data, and entries from 2021 and after as the test data."
   ]
  },
  {
   "cell_type": "code",
   "execution_count": 3,
   "metadata": {
    "id": "_oYG6lNIh7Mp"
   },
   "outputs": [],
   "source": [
    "df = pd.read_csv('hdb_price_prediction.csv')\n",
    "\n",
    "# TODO: Enter your code here\n",
    "train_df = df[df['year'] <= 2020]\n",
    "test_df = df[df['year'] >= 2021]"
   ]
  },
  {
   "cell_type": "code",
   "execution_count": 4,
   "metadata": {},
   "outputs": [],
   "source": [
    "train = train_df.to_numpy()\n",
    "test = test_df.to_numpy()"
   ]
  },
  {
   "cell_type": "markdown",
   "metadata": {
    "id": "m_q9PoR50JAA"
   },
   "source": [
    ">Refer to the documentation of Pytorch-WideDeep and perform the following tasks:\n",
    "https://pytorch-widedeep.readthedocs.io/en/latest/index.html\n",
    "* Use [**TabPreprocessor**](https://pytorch-widedeep.readthedocs.io/en/latest/examples/01_preprocessors_and_utils.html#2-tabpreprocessor) to create the deeptabular component using the continuous\n",
    "features and the categorical features. Use this component to transform the training dataset.\n",
    "* Create the [**TabMlp**](https://pytorch-widedeep.readthedocs.io/en/latest/pytorch-widedeep/model_components.html#pytorch_widedeep.models.tabular.mlp.tab_mlp.TabMlp) model with 2 linear layers in the MLP, with 200 and 100 neurons respectively.\n",
    "* Create a [**Trainer**](https://pytorch-widedeep.readthedocs.io/en/latest/pytorch-widedeep/trainer.html#pytorch_widedeep.training.Trainer) for the training of the created TabMlp model with the root mean squared error (RMSE) cost function. Train the model for 100 epochs using this trainer, keeping a batch size of 64. (Note: set the *num_workers* parameter to 0.)"
   ]
  },
  {
   "cell_type": "code",
   "execution_count": 5,
   "metadata": {
    "id": "ZBY1iqUXtYWn"
   },
   "outputs": [
    {
     "name": "stderr",
     "output_type": "stream",
     "text": [
      "/Users/limxinyi/Library/Python/3.9/lib/python/site-packages/pytorch_widedeep/preprocessing/tab_preprocessor.py:334: UserWarning: Continuous columns will not be normalised\n",
      "  warnings.warn(\"Continuous columns will not be normalised\")\n",
      "epoch 1: 100%|██████████| 1366/1366 [00:20<00:00, 65.14it/s, loss=2.33e+5]\n",
      "epoch 2: 100%|██████████| 1366/1366 [00:18<00:00, 73.50it/s, loss=9.83e+4] \n",
      "epoch 3: 100%|██████████| 1366/1366 [00:09<00:00, 146.75it/s, loss=8.6e+4] \n",
      "epoch 4: 100%|██████████| 1366/1366 [00:08<00:00, 163.83it/s, loss=7.97e+4]\n",
      "epoch 5: 100%|██████████| 1366/1366 [00:09<00:00, 151.73it/s, loss=7.61e+4]\n",
      "epoch 6: 100%|██████████| 1366/1366 [00:07<00:00, 181.96it/s, loss=7.36e+4]\n",
      "epoch 7: 100%|██████████| 1366/1366 [00:07<00:00, 184.34it/s, loss=7.22e+4]\n",
      "epoch 8: 100%|██████████| 1366/1366 [00:07<00:00, 186.53it/s, loss=7.09e+4]\n",
      "epoch 9: 100%|██████████| 1366/1366 [00:07<00:00, 176.97it/s, loss=6.98e+4]\n",
      "epoch 10: 100%|██████████| 1366/1366 [00:08<00:00, 167.55it/s, loss=6.89e+4]\n",
      "epoch 11: 100%|██████████| 1366/1366 [00:09<00:00, 147.68it/s, loss=6.83e+4]\n",
      "epoch 12: 100%|██████████| 1366/1366 [00:09<00:00, 150.59it/s, loss=6.76e+4]\n",
      "epoch 13: 100%|██████████| 1366/1366 [00:10<00:00, 133.31it/s, loss=6.69e+4]\n",
      "epoch 14: 100%|██████████| 1366/1366 [00:07<00:00, 175.99it/s, loss=6.64e+4]\n",
      "epoch 15: 100%|██████████| 1366/1366 [00:09<00:00, 139.55it/s, loss=6.6e+4] \n",
      "epoch 16: 100%|██████████| 1366/1366 [00:10<00:00, 133.13it/s, loss=6.59e+4]\n",
      "epoch 17: 100%|██████████| 1366/1366 [00:09<00:00, 139.90it/s, loss=6.57e+4]\n",
      "epoch 18: 100%|██████████| 1366/1366 [00:07<00:00, 181.49it/s, loss=6.55e+4]\n",
      "epoch 19: 100%|██████████| 1366/1366 [00:08<00:00, 159.29it/s, loss=6.5e+4] \n",
      "epoch 20: 100%|██████████| 1366/1366 [00:08<00:00, 162.38it/s, loss=6.48e+4]\n",
      "epoch 21: 100%|██████████| 1366/1366 [00:06<00:00, 200.11it/s, loss=6.47e+4]\n",
      "epoch 22: 100%|██████████| 1366/1366 [00:06<00:00, 208.40it/s, loss=6.46e+4]\n",
      "epoch 23: 100%|██████████| 1366/1366 [00:06<00:00, 203.71it/s, loss=6.42e+4]\n",
      "epoch 24: 100%|██████████| 1366/1366 [00:08<00:00, 169.65it/s, loss=6.41e+4]\n",
      "epoch 25: 100%|██████████| 1366/1366 [00:10<00:00, 133.00it/s, loss=6.39e+4]\n",
      "epoch 26: 100%|██████████| 1366/1366 [00:09<00:00, 139.14it/s, loss=6.37e+4]\n",
      "epoch 27: 100%|██████████| 1366/1366 [00:08<00:00, 163.79it/s, loss=6.36e+4]\n",
      "epoch 28: 100%|██████████| 1366/1366 [00:07<00:00, 187.72it/s, loss=6.36e+4]\n",
      "epoch 29: 100%|██████████| 1366/1366 [00:08<00:00, 156.49it/s, loss=6.31e+4]\n",
      "epoch 30: 100%|██████████| 1366/1366 [00:07<00:00, 178.50it/s, loss=6.3e+4] \n",
      "epoch 31: 100%|██████████| 1366/1366 [00:11<00:00, 122.06it/s, loss=6.29e+4]\n",
      "epoch 32: 100%|██████████| 1366/1366 [00:09<00:00, 139.75it/s, loss=6.28e+4]\n",
      "epoch 33: 100%|██████████| 1366/1366 [00:08<00:00, 169.39it/s, loss=6.26e+4]\n",
      "epoch 34: 100%|██████████| 1366/1366 [00:07<00:00, 176.42it/s, loss=6.25e+4]\n",
      "epoch 35: 100%|██████████| 1366/1366 [00:09<00:00, 148.46it/s, loss=6.21e+4]\n",
      "epoch 36: 100%|██████████| 1366/1366 [00:10<00:00, 135.68it/s, loss=6.21e+4]\n",
      "epoch 37: 100%|██████████| 1366/1366 [00:10<00:00, 133.93it/s, loss=6.18e+4]\n",
      "epoch 38: 100%|██████████| 1366/1366 [00:09<00:00, 151.30it/s, loss=6.2e+4] \n",
      "epoch 39: 100%|██████████| 1366/1366 [00:10<00:00, 134.70it/s, loss=6.17e+4]\n",
      "epoch 40: 100%|██████████| 1366/1366 [00:08<00:00, 152.79it/s, loss=6.17e+4]\n",
      "epoch 41: 100%|██████████| 1366/1366 [00:10<00:00, 130.03it/s, loss=6.12e+4]\n",
      "epoch 42: 100%|██████████| 1366/1366 [00:08<00:00, 155.70it/s, loss=6.14e+4]\n",
      "epoch 43: 100%|██████████| 1366/1366 [00:09<00:00, 140.06it/s, loss=6.13e+4]\n",
      "epoch 44: 100%|██████████| 1366/1366 [00:10<00:00, 127.87it/s, loss=6.11e+4]\n",
      "epoch 45: 100%|██████████| 1366/1366 [00:08<00:00, 158.70it/s, loss=6.07e+4]\n",
      "epoch 46: 100%|██████████| 1366/1366 [00:08<00:00, 164.87it/s, loss=6.09e+4]\n",
      "epoch 47: 100%|██████████| 1366/1366 [00:11<00:00, 122.79it/s, loss=6.06e+4]\n",
      "epoch 48: 100%|██████████| 1366/1366 [00:08<00:00, 153.44it/s, loss=6.04e+4]\n",
      "epoch 49: 100%|██████████| 1366/1366 [00:08<00:00, 153.61it/s, loss=6.03e+4]\n",
      "epoch 50: 100%|██████████| 1366/1366 [00:08<00:00, 164.36it/s, loss=6.03e+4]\n",
      "epoch 51: 100%|██████████| 1366/1366 [00:09<00:00, 147.07it/s, loss=6.01e+4]\n",
      "epoch 52: 100%|██████████| 1366/1366 [00:06<00:00, 213.56it/s, loss=5.97e+4]\n",
      "epoch 53: 100%|██████████| 1366/1366 [00:06<00:00, 199.33it/s, loss=5.97e+4]\n",
      "epoch 54: 100%|██████████| 1366/1366 [00:09<00:00, 150.06it/s, loss=5.97e+4]\n",
      "epoch 55: 100%|██████████| 1366/1366 [00:07<00:00, 190.17it/s, loss=5.95e+4]\n",
      "epoch 56: 100%|██████████| 1366/1366 [00:07<00:00, 193.94it/s, loss=5.96e+4]\n",
      "epoch 57: 100%|██████████| 1366/1366 [00:09<00:00, 144.18it/s, loss=5.94e+4]\n",
      "epoch 58: 100%|██████████| 1366/1366 [00:11<00:00, 114.22it/s, loss=5.93e+4]\n",
      "epoch 59: 100%|██████████| 1366/1366 [00:12<00:00, 110.37it/s, loss=5.9e+4] \n",
      "epoch 60: 100%|██████████| 1366/1366 [00:15<00:00, 87.04it/s, loss=5.9e+4]  \n",
      "epoch 61: 100%|██████████| 1366/1366 [00:13<00:00, 102.52it/s, loss=5.89e+4]\n",
      "epoch 62: 100%|██████████| 1366/1366 [00:14<00:00, 96.16it/s, loss=5.87e+4] \n",
      "epoch 63: 100%|██████████| 1366/1366 [00:11<00:00, 123.94it/s, loss=5.84e+4]\n",
      "epoch 64: 100%|██████████| 1366/1366 [00:11<00:00, 120.49it/s, loss=5.8e+4] \n",
      "epoch 65: 100%|██████████| 1366/1366 [00:08<00:00, 165.04it/s, loss=5.83e+4]\n",
      "epoch 66: 100%|██████████| 1366/1366 [00:08<00:00, 157.58it/s, loss=5.79e+4]\n",
      "epoch 67: 100%|██████████| 1366/1366 [00:09<00:00, 141.46it/s, loss=5.75e+4]\n",
      "epoch 68: 100%|██████████| 1366/1366 [00:10<00:00, 133.16it/s, loss=5.71e+4]\n",
      "epoch 69: 100%|██████████| 1366/1366 [00:11<00:00, 121.35it/s, loss=5.66e+4]\n",
      "epoch 70: 100%|██████████| 1366/1366 [00:10<00:00, 126.05it/s, loss=5.6e+4] \n",
      "epoch 71: 100%|██████████| 1366/1366 [00:10<00:00, 126.64it/s, loss=5.52e+4]\n",
      "epoch 72: 100%|██████████| 1366/1366 [00:11<00:00, 121.82it/s, loss=5.45e+4]\n",
      "epoch 73: 100%|██████████| 1366/1366 [00:09<00:00, 146.99it/s, loss=5.38e+4]\n",
      "epoch 74: 100%|██████████| 1366/1366 [00:10<00:00, 126.44it/s, loss=5.33e+4]\n",
      "epoch 75: 100%|██████████| 1366/1366 [00:10<00:00, 127.37it/s, loss=5.28e+4]\n",
      "epoch 76: 100%|██████████| 1366/1366 [00:11<00:00, 115.26it/s, loss=5.25e+4]\n",
      "epoch 77: 100%|██████████| 1366/1366 [00:12<00:00, 110.76it/s, loss=5.24e+4]\n",
      "epoch 78: 100%|██████████| 1366/1366 [00:10<00:00, 135.57it/s, loss=5.21e+4]\n",
      "epoch 79: 100%|██████████| 1366/1366 [00:11<00:00, 117.99it/s, loss=5.21e+4]\n",
      "epoch 80: 100%|██████████| 1366/1366 [00:10<00:00, 130.45it/s, loss=5.18e+4]\n",
      "epoch 81: 100%|██████████| 1366/1366 [00:09<00:00, 137.11it/s, loss=5.16e+4]\n",
      "epoch 82: 100%|██████████| 1366/1366 [00:09<00:00, 137.50it/s, loss=5.17e+4]\n",
      "epoch 83: 100%|██████████| 1366/1366 [00:10<00:00, 130.77it/s, loss=5.16e+4]\n",
      "epoch 84: 100%|██████████| 1366/1366 [00:09<00:00, 144.89it/s, loss=5.15e+4]\n",
      "epoch 85: 100%|██████████| 1366/1366 [00:09<00:00, 142.19it/s, loss=5.13e+4]\n",
      "epoch 86: 100%|██████████| 1366/1366 [00:09<00:00, 145.75it/s, loss=5.11e+4]\n",
      "epoch 87: 100%|██████████| 1366/1366 [00:09<00:00, 151.58it/s, loss=5.11e+4]\n",
      "epoch 88: 100%|██████████| 1366/1366 [00:09<00:00, 143.17it/s, loss=5.1e+4] \n",
      "epoch 89: 100%|██████████| 1366/1366 [00:09<00:00, 148.60it/s, loss=5.08e+4]\n",
      "epoch 90: 100%|██████████| 1366/1366 [00:09<00:00, 149.10it/s, loss=5.06e+4]\n",
      "epoch 91: 100%|██████████| 1366/1366 [00:09<00:00, 139.64it/s, loss=5.06e+4]\n",
      "epoch 92: 100%|██████████| 1366/1366 [00:09<00:00, 149.39it/s, loss=5.06e+4]\n",
      "epoch 93: 100%|██████████| 1366/1366 [00:09<00:00, 144.87it/s, loss=5.05e+4]\n",
      "epoch 94: 100%|██████████| 1366/1366 [00:09<00:00, 147.92it/s, loss=5.04e+4]\n",
      "epoch 95: 100%|██████████| 1366/1366 [00:09<00:00, 145.30it/s, loss=5.05e+4]\n",
      "epoch 96: 100%|██████████| 1366/1366 [00:09<00:00, 138.37it/s, loss=5.01e+4]\n",
      "epoch 97: 100%|██████████| 1366/1366 [00:09<00:00, 144.77it/s, loss=5.02e+4]\n",
      "epoch 98: 100%|██████████| 1366/1366 [00:09<00:00, 142.32it/s, loss=5.03e+4]\n",
      "epoch 99: 100%|██████████| 1366/1366 [00:09<00:00, 140.91it/s, loss=5.02e+4]\n",
      "epoch 100: 100%|██████████| 1366/1366 [00:09<00:00, 144.17it/s, loss=4.99e+4]\n"
     ]
    }
   ],
   "source": [
    "# TODO: Enter your code here\n",
    "\n",
    "continuous_cols = [\"dist_to_nearest_stn\", \"dist_to_dhoby\", \"degree_centrality\", \"eigenvector_centrality\", \"remaining_lease_years\", \"floor_area_sqm\"]\n",
    "cat_embed_cols = [\"month\", \"town\", \"flat_model_type\", \"storey_range\"]\n",
    "target = train_df[\"resale_price\"].values\n",
    "\n",
    "tab_preprocessor = TabPreprocessor(\n",
    "    cat_embed_cols = cat_embed_cols, \n",
    "\t\tcontinuous_cols = continuous_cols\n",
    ")\n",
    "X_tab = tab_preprocessor.fit_transform(train_df)\n",
    "\n",
    "\n",
    "tabmlp = TabMlp(mlp_hidden_dims=[200,100], column_idx=tab_preprocessor.column_idx, cat_embed_input= tab_preprocessor.cat_embed_input, cat_embed_activation=None, continuous_cols=continuous_cols)\n",
    "\n",
    "model = WideDeep(deeptabular=tabmlp)\n",
    "\n",
    "trainer = Trainer(model, objective=\"root_mean_squared_error\", num_workers=0)\n",
    "trainer.fit(X_tab=X_tab, target=target, n_epochs=100, batch_size=64)"
   ]
  },
  {
   "cell_type": "markdown",
   "metadata": {
    "id": "V46s-MdM0y5c"
   },
   "source": [
    ">Report the test RMSE and the test R2 value that you obtained."
   ]
  },
  {
   "cell_type": "code",
   "execution_count": 6,
   "metadata": {
    "id": "KAhAgvMC07g6"
   },
   "outputs": [
    {
     "name": "stderr",
     "output_type": "stream",
     "text": [
      "predict: 100%|██████████| 1128/1128 [00:02<00:00, 434.16it/s]\n"
     ]
    }
   ],
   "source": [
    "# TODO: Enter your code here\n",
    "\n",
    "X_tab_test = tab_preprocessor.transform(test_df)\n",
    "preds = trainer.predict(X_tab=X_tab_test)"
   ]
  },
  {
   "cell_type": "code",
   "execution_count": 7,
   "metadata": {},
   "outputs": [
    {
     "name": "stdout",
     "output_type": "stream",
     "text": [
      "Root Mean Squared Error:  96488.27015764269\n",
      "R2 Score:  0.6747273327009404\n"
     ]
    }
   ],
   "source": [
    "mse = mean_squared_error(y_true = list(test_df['resale_price']), y_pred = preds)\n",
    "rsme = math.sqrt(mse)\n",
    "r2 = r2_score(y_true = list(test_df['resale_price']), y_pred = preds)\n",
    "\n",
    "print(\"Root Mean Squared Error: \", rsme)\n",
    "print(\"R2 Score: \", r2)"
   ]
  }
 ],
 "metadata": {
  "colab": {
   "provenance": []
  },
  "kernelspec": {
   "display_name": "Python 3 (ipykernel)",
   "language": "python",
   "name": "python3"
  },
  "language_info": {
   "codemirror_mode": {
    "name": "ipython",
    "version": 3
   },
   "file_extension": ".py",
   "mimetype": "text/x-python",
   "name": "python",
   "nbconvert_exporter": "python",
   "pygments_lexer": "ipython3",
   "version": "3.9.6"
  }
 },
 "nbformat": 4,
 "nbformat_minor": 1
}
