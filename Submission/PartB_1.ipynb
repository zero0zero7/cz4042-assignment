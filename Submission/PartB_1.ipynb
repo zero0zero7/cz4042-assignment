{
 "cells": [
  {
   "cell_type": "markdown",
   "metadata": {
    "id": "jnRX6LUnqBpw"
   },
   "source": [
    "CS4001/4042 Assignment 1, Part B, Q1\n",
    "---\n",
    "\n",
    "Real world datasets often have a mix of numeric and categorical features – this dataset is one example. To build models on such data, categorical features have to be encoded or embedded.\n",
    "\n",
    "PyTorch Tabular is a library that makes it very convenient to build neural networks for tabular data. It is built on top of PyTorch Lightning, which abstracts away boilerplate model training code and makes it easy to integrate other tools, e.g. TensorBoard for experiment tracking.\n",
    "\n",
    "For questions B1 and B2, the following features should be used:   \n",
    "- **Numeric / Continuous** features: dist_to_nearest_stn, dist_to_dhoby, degree_centrality, eigenvector_centrality, remaining_lease_years, floor_area_sqm\n",
    "- **Categorical** features: month, town, flat_model_type, storey_range"
   ]
  },
  {
   "cell_type": "markdown",
   "metadata": {
    "id": "Kn0j2MRKqKVs"
   },
   "source": [
    "\n",
    "\n",
    "---\n",
    "\n"
   ]
  },
  {
   "cell_type": "code",
   "execution_count": 1,
   "metadata": {
    "id": "jA67PbIY3PnH"
   },
   "outputs": [
    {
     "name": "stdout",
     "output_type": "stream",
     "text": [
      "Defaulting to user installation because normal site-packages is not writeable\n",
      "Requirement already satisfied: pytorch_tabular in /Users/limxinyi/Library/Python/3.9/lib/python/site-packages (1.0.2)\n",
      "Requirement already satisfied: torch>=1.9.0 in /Users/limxinyi/Library/Python/3.9/lib/python/site-packages (from pytorch_tabular) (1.13.1)\n",
      "Requirement already satisfied: category-encoders<2.7.0,>=2.6.0 in /Users/limxinyi/Library/Python/3.9/lib/python/site-packages (from pytorch_tabular) (2.6.2)\n",
      "Requirement already satisfied: numpy>=1.17.2 in /Users/limxinyi/Library/Python/3.9/lib/python/site-packages (from pytorch_tabular) (1.24.3)\n",
      "Requirement already satisfied: pandas>=1.1.5 in /Users/limxinyi/Library/Python/3.9/lib/python/site-packages (from pytorch_tabular) (2.1.1)\n",
      "Requirement already satisfied: scikit-learn>=1.0.0 in /Users/limxinyi/Library/Python/3.9/lib/python/site-packages (from pytorch_tabular) (1.3.1)\n",
      "Requirement already satisfied: pytorch-lightning<2.0.0,>=1.8.0 in /Users/limxinyi/Library/Python/3.9/lib/python/site-packages (from pytorch_tabular) (1.9.5)\n",
      "Requirement already satisfied: omegaconf>=2.1.0 in /Users/limxinyi/Library/Python/3.9/lib/python/site-packages (from pytorch_tabular) (2.3.0)\n",
      "Requirement already satisfied: torchmetrics<0.12.0,>=0.10.0 in /Users/limxinyi/Library/Python/3.9/lib/python/site-packages (from pytorch_tabular) (0.11.4)\n",
      "Requirement already satisfied: tensorboard!=2.5.0,>2.2.0 in /Users/limxinyi/Library/Python/3.9/lib/python/site-packages (from pytorch_tabular) (2.13.0)\n",
      "Requirement already satisfied: protobuf<4.23.0,>=3.20.0 in /Users/limxinyi/Library/Python/3.9/lib/python/site-packages (from pytorch_tabular) (4.22.5)\n",
      "Requirement already satisfied: pytorch-tabnet==4.0 in /Users/limxinyi/Library/Python/3.9/lib/python/site-packages (from pytorch_tabular) (4.0)\n",
      "Requirement already satisfied: PyYAML<6.1.0,>=5.4 in /Users/limxinyi/Library/Python/3.9/lib/python/site-packages (from pytorch_tabular) (6.0.1)\n",
      "Requirement already satisfied: matplotlib>3.1 in /Users/limxinyi/Library/Python/3.9/lib/python/site-packages (from pytorch_tabular) (3.8.0)\n",
      "Requirement already satisfied: ipywidgets in /Users/limxinyi/Library/Python/3.9/lib/python/site-packages (from pytorch_tabular) (8.1.1)\n",
      "Requirement already satisfied: einops<0.7.0,>=0.6.0 in /Users/limxinyi/Library/Python/3.9/lib/python/site-packages (from pytorch_tabular) (0.6.1)\n",
      "Requirement already satisfied: rich>=11.0.0 in /Users/limxinyi/Library/Python/3.9/lib/python/site-packages (from pytorch_tabular) (13.6.0)\n",
      "Requirement already satisfied: scipy>1.4 in /Users/limxinyi/Library/Python/3.9/lib/python/site-packages (from pytorch-tabnet==4.0->pytorch_tabular) (1.11.3)\n",
      "Requirement already satisfied: tqdm<5.0,>=4.36 in /Users/limxinyi/Library/Python/3.9/lib/python/site-packages (from pytorch-tabnet==4.0->pytorch_tabular) (4.66.1)\n",
      "Requirement already satisfied: statsmodels>=0.9.0 in /Users/limxinyi/Library/Python/3.9/lib/python/site-packages (from category-encoders<2.7.0,>=2.6.0->pytorch_tabular) (0.14.0)\n",
      "Requirement already satisfied: patsy>=0.5.1 in /Users/limxinyi/Library/Python/3.9/lib/python/site-packages (from category-encoders<2.7.0,>=2.6.0->pytorch_tabular) (0.5.3)\n",
      "Requirement already satisfied: contourpy>=1.0.1 in /Users/limxinyi/Library/Python/3.9/lib/python/site-packages (from matplotlib>3.1->pytorch_tabular) (1.1.1)\n",
      "Requirement already satisfied: cycler>=0.10 in /Users/limxinyi/Library/Python/3.9/lib/python/site-packages (from matplotlib>3.1->pytorch_tabular) (0.12.0)\n",
      "Requirement already satisfied: fonttools>=4.22.0 in /Users/limxinyi/Library/Python/3.9/lib/python/site-packages (from matplotlib>3.1->pytorch_tabular) (4.43.0)\n",
      "Requirement already satisfied: kiwisolver>=1.0.1 in /Users/limxinyi/Library/Python/3.9/lib/python/site-packages (from matplotlib>3.1->pytorch_tabular) (1.4.5)\n",
      "Requirement already satisfied: packaging>=20.0 in /Users/limxinyi/Library/Python/3.9/lib/python/site-packages (from matplotlib>3.1->pytorch_tabular) (23.1)\n",
      "Requirement already satisfied: pillow>=6.2.0 in /Users/limxinyi/Library/Python/3.9/lib/python/site-packages (from matplotlib>3.1->pytorch_tabular) (9.5.0)\n",
      "Requirement already satisfied: pyparsing>=2.3.1 in /Users/limxinyi/Library/Python/3.9/lib/python/site-packages (from matplotlib>3.1->pytorch_tabular) (3.1.1)\n",
      "Requirement already satisfied: python-dateutil>=2.7 in /Users/limxinyi/Library/Python/3.9/lib/python/site-packages (from matplotlib>3.1->pytorch_tabular) (2.8.2)\n",
      "Requirement already satisfied: importlib-resources>=3.2.0 in /Users/limxinyi/Library/Python/3.9/lib/python/site-packages (from matplotlib>3.1->pytorch_tabular) (6.1.0)\n",
      "Requirement already satisfied: antlr4-python3-runtime==4.9.* in /Users/limxinyi/Library/Python/3.9/lib/python/site-packages (from omegaconf>=2.1.0->pytorch_tabular) (4.9.3)\n",
      "Requirement already satisfied: pytz>=2020.1 in /Users/limxinyi/Library/Python/3.9/lib/python/site-packages (from pandas>=1.1.5->pytorch_tabular) (2023.3.post1)\n",
      "Requirement already satisfied: tzdata>=2022.1 in /Users/limxinyi/Library/Python/3.9/lib/python/site-packages (from pandas>=1.1.5->pytorch_tabular) (2023.3)\n",
      "Requirement already satisfied: fsspec[http]>2021.06.0 in /Users/limxinyi/Library/Python/3.9/lib/python/site-packages (from pytorch-lightning<2.0.0,>=1.8.0->pytorch_tabular) (2023.9.2)\n",
      "Requirement already satisfied: typing-extensions>=4.0.0 in /Users/limxinyi/Library/Python/3.9/lib/python/site-packages (from pytorch-lightning<2.0.0,>=1.8.0->pytorch_tabular) (4.8.0)\n",
      "Requirement already satisfied: lightning-utilities>=0.6.0.post0 in /Users/limxinyi/Library/Python/3.9/lib/python/site-packages (from pytorch-lightning<2.0.0,>=1.8.0->pytorch_tabular) (0.9.0)\n",
      "Requirement already satisfied: markdown-it-py>=2.2.0 in /Users/limxinyi/Library/Python/3.9/lib/python/site-packages (from rich>=11.0.0->pytorch_tabular) (3.0.0)\n",
      "Requirement already satisfied: pygments<3.0.0,>=2.13.0 in /Users/limxinyi/Library/Python/3.9/lib/python/site-packages (from rich>=11.0.0->pytorch_tabular) (2.16.1)\n",
      "Requirement already satisfied: joblib>=1.1.1 in /Users/limxinyi/Library/Python/3.9/lib/python/site-packages (from scikit-learn>=1.0.0->pytorch_tabular) (1.3.2)\n",
      "Requirement already satisfied: threadpoolctl>=2.0.0 in /Users/limxinyi/Library/Python/3.9/lib/python/site-packages (from scikit-learn>=1.0.0->pytorch_tabular) (3.2.0)\n",
      "Requirement already satisfied: absl-py>=0.4 in /Users/limxinyi/Library/Python/3.9/lib/python/site-packages (from tensorboard!=2.5.0,>2.2.0->pytorch_tabular) (1.4.0)\n",
      "Requirement already satisfied: grpcio>=1.48.2 in /Users/limxinyi/Library/Python/3.9/lib/python/site-packages (from tensorboard!=2.5.0,>2.2.0->pytorch_tabular) (1.58.0)\n",
      "Requirement already satisfied: google-auth<3,>=1.6.3 in /Users/limxinyi/Library/Python/3.9/lib/python/site-packages (from tensorboard!=2.5.0,>2.2.0->pytorch_tabular) (2.23.0)\n",
      "Requirement already satisfied: google-auth-oauthlib<1.1,>=0.5 in /Users/limxinyi/Library/Python/3.9/lib/python/site-packages (from tensorboard!=2.5.0,>2.2.0->pytorch_tabular) (1.0.0)\n",
      "Requirement already satisfied: markdown>=2.6.8 in /Users/limxinyi/Library/Python/3.9/lib/python/site-packages (from tensorboard!=2.5.0,>2.2.0->pytorch_tabular) (3.4.4)\n",
      "Requirement already satisfied: requests<3,>=2.21.0 in /Users/limxinyi/Library/Python/3.9/lib/python/site-packages (from tensorboard!=2.5.0,>2.2.0->pytorch_tabular) (2.31.0)\n",
      "Requirement already satisfied: setuptools>=41.0.0 in /Library/Developer/CommandLineTools/Library/Frameworks/Python3.framework/Versions/3.9/lib/python3.9/site-packages (from tensorboard!=2.5.0,>2.2.0->pytorch_tabular) (58.0.4)\n",
      "Requirement already satisfied: tensorboard-data-server<0.8.0,>=0.7.0 in /Users/limxinyi/Library/Python/3.9/lib/python/site-packages (from tensorboard!=2.5.0,>2.2.0->pytorch_tabular) (0.7.1)\n",
      "Requirement already satisfied: werkzeug>=1.0.1 in /Users/limxinyi/Library/Python/3.9/lib/python/site-packages (from tensorboard!=2.5.0,>2.2.0->pytorch_tabular) (2.3.7)\n",
      "Requirement already satisfied: wheel>=0.26 in /Library/Developer/CommandLineTools/Library/Frameworks/Python3.framework/Versions/3.9/lib/python3.9/site-packages (from tensorboard!=2.5.0,>2.2.0->pytorch_tabular) (0.37.0)\n",
      "Requirement already satisfied: comm>=0.1.3 in /Users/limxinyi/Library/Python/3.9/lib/python/site-packages (from ipywidgets->pytorch_tabular) (0.1.4)\n",
      "Requirement already satisfied: ipython>=6.1.0 in /Users/limxinyi/Library/Python/3.9/lib/python/site-packages (from ipywidgets->pytorch_tabular) (8.15.0)\n",
      "Requirement already satisfied: traitlets>=4.3.1 in /Users/limxinyi/Library/Python/3.9/lib/python/site-packages (from ipywidgets->pytorch_tabular) (5.9.0)\n",
      "Requirement already satisfied: widgetsnbextension~=4.0.9 in /Users/limxinyi/Library/Python/3.9/lib/python/site-packages (from ipywidgets->pytorch_tabular) (4.0.9)\n",
      "Requirement already satisfied: jupyterlab-widgets~=3.0.9 in /Users/limxinyi/Library/Python/3.9/lib/python/site-packages (from ipywidgets->pytorch_tabular) (3.0.9)\n",
      "Requirement already satisfied: aiohttp!=4.0.0a0,!=4.0.0a1 in /Users/limxinyi/Library/Python/3.9/lib/python/site-packages (from fsspec[http]>2021.06.0->pytorch-lightning<2.0.0,>=1.8.0->pytorch_tabular) (3.8.5)\n",
      "Requirement already satisfied: cachetools<6.0,>=2.0.0 in /Users/limxinyi/Library/Python/3.9/lib/python/site-packages (from google-auth<3,>=1.6.3->tensorboard!=2.5.0,>2.2.0->pytorch_tabular) (5.3.1)\n",
      "Requirement already satisfied: pyasn1-modules>=0.2.1 in /Users/limxinyi/Library/Python/3.9/lib/python/site-packages (from google-auth<3,>=1.6.3->tensorboard!=2.5.0,>2.2.0->pytorch_tabular) (0.3.0)\n",
      "Requirement already satisfied: rsa<5,>=3.1.4 in /Users/limxinyi/Library/Python/3.9/lib/python/site-packages (from google-auth<3,>=1.6.3->tensorboard!=2.5.0,>2.2.0->pytorch_tabular) (4.9)\n",
      "Requirement already satisfied: urllib3<2.0 in /Users/limxinyi/Library/Python/3.9/lib/python/site-packages (from google-auth<3,>=1.6.3->tensorboard!=2.5.0,>2.2.0->pytorch_tabular) (1.26.16)\n",
      "Requirement already satisfied: requests-oauthlib>=0.7.0 in /Users/limxinyi/Library/Python/3.9/lib/python/site-packages (from google-auth-oauthlib<1.1,>=0.5->tensorboard!=2.5.0,>2.2.0->pytorch_tabular) (1.3.1)\n",
      "Requirement already satisfied: zipp>=3.1.0 in /Users/limxinyi/Library/Python/3.9/lib/python/site-packages (from importlib-resources>=3.2.0->matplotlib>3.1->pytorch_tabular) (3.16.2)\n",
      "Requirement already satisfied: backcall in /Users/limxinyi/Library/Python/3.9/lib/python/site-packages (from ipython>=6.1.0->ipywidgets->pytorch_tabular) (0.2.0)\n",
      "Requirement already satisfied: decorator in /Users/limxinyi/Library/Python/3.9/lib/python/site-packages (from ipython>=6.1.0->ipywidgets->pytorch_tabular) (5.1.1)\n",
      "Requirement already satisfied: jedi>=0.16 in /Users/limxinyi/Library/Python/3.9/lib/python/site-packages (from ipython>=6.1.0->ipywidgets->pytorch_tabular) (0.19.0)\n",
      "Requirement already satisfied: matplotlib-inline in /Users/limxinyi/Library/Python/3.9/lib/python/site-packages (from ipython>=6.1.0->ipywidgets->pytorch_tabular) (0.1.6)\n",
      "Requirement already satisfied: pickleshare in /Users/limxinyi/Library/Python/3.9/lib/python/site-packages (from ipython>=6.1.0->ipywidgets->pytorch_tabular) (0.7.5)\n",
      "Requirement already satisfied: prompt-toolkit!=3.0.37,<3.1.0,>=3.0.30 in /Users/limxinyi/Library/Python/3.9/lib/python/site-packages (from ipython>=6.1.0->ipywidgets->pytorch_tabular) (3.0.39)\n",
      "Requirement already satisfied: stack-data in /Users/limxinyi/Library/Python/3.9/lib/python/site-packages (from ipython>=6.1.0->ipywidgets->pytorch_tabular) (0.6.2)\n",
      "Requirement already satisfied: exceptiongroup in /Users/limxinyi/Library/Python/3.9/lib/python/site-packages (from ipython>=6.1.0->ipywidgets->pytorch_tabular) (1.1.3)\n",
      "Requirement already satisfied: pexpect>4.3 in /Users/limxinyi/Library/Python/3.9/lib/python/site-packages (from ipython>=6.1.0->ipywidgets->pytorch_tabular) (4.8.0)\n",
      "Requirement already satisfied: appnope in /Users/limxinyi/Library/Python/3.9/lib/python/site-packages (from ipython>=6.1.0->ipywidgets->pytorch_tabular) (0.1.3)\n",
      "Requirement already satisfied: importlib-metadata>=4.4 in /Users/limxinyi/Library/Python/3.9/lib/python/site-packages (from markdown>=2.6.8->tensorboard!=2.5.0,>2.2.0->pytorch_tabular) (6.8.0)\n",
      "Requirement already satisfied: mdurl~=0.1 in /Users/limxinyi/Library/Python/3.9/lib/python/site-packages (from markdown-it-py>=2.2.0->rich>=11.0.0->pytorch_tabular) (0.1.2)\n",
      "Requirement already satisfied: six in /Library/Developer/CommandLineTools/Library/Frameworks/Python3.framework/Versions/3.9/lib/python3.9/site-packages (from patsy>=0.5.1->category-encoders<2.7.0,>=2.6.0->pytorch_tabular) (1.15.0)\n",
      "Requirement already satisfied: charset-normalizer<4,>=2 in /Users/limxinyi/Library/Python/3.9/lib/python/site-packages (from requests<3,>=2.21.0->tensorboard!=2.5.0,>2.2.0->pytorch_tabular) (3.2.0)\n",
      "Requirement already satisfied: idna<4,>=2.5 in /Users/limxinyi/Library/Python/3.9/lib/python/site-packages (from requests<3,>=2.21.0->tensorboard!=2.5.0,>2.2.0->pytorch_tabular) (3.4)\n",
      "Requirement already satisfied: certifi>=2017.4.17 in /Users/limxinyi/Library/Python/3.9/lib/python/site-packages (from requests<3,>=2.21.0->tensorboard!=2.5.0,>2.2.0->pytorch_tabular) (2023.7.22)\n",
      "Requirement already satisfied: MarkupSafe>=2.1.1 in /Users/limxinyi/Library/Python/3.9/lib/python/site-packages (from werkzeug>=1.0.1->tensorboard!=2.5.0,>2.2.0->pytorch_tabular) (2.1.3)\n",
      "Requirement already satisfied: attrs>=17.3.0 in /Users/limxinyi/Library/Python/3.9/lib/python/site-packages (from aiohttp!=4.0.0a0,!=4.0.0a1->fsspec[http]>2021.06.0->pytorch-lightning<2.0.0,>=1.8.0->pytorch_tabular) (23.1.0)\n",
      "Requirement already satisfied: multidict<7.0,>=4.5 in /Users/limxinyi/Library/Python/3.9/lib/python/site-packages (from aiohttp!=4.0.0a0,!=4.0.0a1->fsspec[http]>2021.06.0->pytorch-lightning<2.0.0,>=1.8.0->pytorch_tabular) (6.0.4)\n",
      "Requirement already satisfied: async-timeout<5.0,>=4.0.0a3 in /Users/limxinyi/Library/Python/3.9/lib/python/site-packages (from aiohttp!=4.0.0a0,!=4.0.0a1->fsspec[http]>2021.06.0->pytorch-lightning<2.0.0,>=1.8.0->pytorch_tabular) (4.0.3)\n",
      "Requirement already satisfied: yarl<2.0,>=1.0 in /Users/limxinyi/Library/Python/3.9/lib/python/site-packages (from aiohttp!=4.0.0a0,!=4.0.0a1->fsspec[http]>2021.06.0->pytorch-lightning<2.0.0,>=1.8.0->pytorch_tabular) (1.9.2)\n",
      "Requirement already satisfied: frozenlist>=1.1.1 in /Users/limxinyi/Library/Python/3.9/lib/python/site-packages (from aiohttp!=4.0.0a0,!=4.0.0a1->fsspec[http]>2021.06.0->pytorch-lightning<2.0.0,>=1.8.0->pytorch_tabular) (1.4.0)\n",
      "Requirement already satisfied: aiosignal>=1.1.2 in /Users/limxinyi/Library/Python/3.9/lib/python/site-packages (from aiohttp!=4.0.0a0,!=4.0.0a1->fsspec[http]>2021.06.0->pytorch-lightning<2.0.0,>=1.8.0->pytorch_tabular) (1.3.1)\n",
      "Requirement already satisfied: parso<0.9.0,>=0.8.3 in /Users/limxinyi/Library/Python/3.9/lib/python/site-packages (from jedi>=0.16->ipython>=6.1.0->ipywidgets->pytorch_tabular) (0.8.3)\n",
      "Requirement already satisfied: ptyprocess>=0.5 in /Users/limxinyi/Library/Python/3.9/lib/python/site-packages (from pexpect>4.3->ipython>=6.1.0->ipywidgets->pytorch_tabular) (0.7.0)\n",
      "Requirement already satisfied: wcwidth in /Users/limxinyi/Library/Python/3.9/lib/python/site-packages (from prompt-toolkit!=3.0.37,<3.1.0,>=3.0.30->ipython>=6.1.0->ipywidgets->pytorch_tabular) (0.2.6)\n",
      "Requirement already satisfied: pyasn1<0.6.0,>=0.4.6 in /Users/limxinyi/Library/Python/3.9/lib/python/site-packages (from pyasn1-modules>=0.2.1->google-auth<3,>=1.6.3->tensorboard!=2.5.0,>2.2.0->pytorch_tabular) (0.5.0)\n",
      "Requirement already satisfied: oauthlib>=3.0.0 in /Users/limxinyi/Library/Python/3.9/lib/python/site-packages (from requests-oauthlib>=0.7.0->google-auth-oauthlib<1.1,>=0.5->tensorboard!=2.5.0,>2.2.0->pytorch_tabular) (3.2.2)\n",
      "Requirement already satisfied: executing>=1.2.0 in /Users/limxinyi/Library/Python/3.9/lib/python/site-packages (from stack-data->ipython>=6.1.0->ipywidgets->pytorch_tabular) (1.2.0)\n",
      "Requirement already satisfied: asttokens>=2.1.0 in /Users/limxinyi/Library/Python/3.9/lib/python/site-packages (from stack-data->ipython>=6.1.0->ipywidgets->pytorch_tabular) (2.4.0)\n",
      "Requirement already satisfied: pure-eval in /Users/limxinyi/Library/Python/3.9/lib/python/site-packages (from stack-data->ipython>=6.1.0->ipywidgets->pytorch_tabular) (0.2.2)\n"
     ]
    }
   ],
   "source": [
    "!pip install pytorch_tabular"
   ]
  },
  {
   "cell_type": "code",
   "execution_count": 2,
   "metadata": {
    "id": "Jr6P3U7w3NVl"
   },
   "outputs": [
    {
     "name": "stderr",
     "output_type": "stream",
     "text": [
      "/Users/limxinyi/Library/Python/3.9/lib/python/site-packages/torchvision/io/image.py:13: UserWarning: Failed to load image Python extension: 'dlopen(/Users/limxinyi/Library/Python/3.9/lib/python/site-packages/torchvision/image.so, 0x0006): Symbol not found: __ZN3c106detail19maybe_wrap_dim_slowIxEET_S2_S2_b\n",
      "  Referenced from: <00B86D22-833F-3522-B9CF-FCA5ED5567DC> /Users/limxinyi/Library/Python/3.9/lib/python/site-packages/torchvision/image.so\n",
      "  Expected in:     <1E9FA061-EA31-3736-81D0-79A33B965097> /Users/limxinyi/Library/Python/3.9/lib/python/site-packages/torch/lib/libc10.dylib'If you don't plan on using image functionality from `torchvision.io`, you can ignore this warning. Otherwise, there might be something wrong with your environment. Did you have `libjpeg` or `libpng` installed before building `torchvision` from source?\n",
      "  warn(\n"
     ]
    }
   ],
   "source": [
    "SEED = 42\n",
    "\n",
    "import os\n",
    "\n",
    "import random\n",
    "random.seed(SEED)\n",
    "\n",
    "import numpy as np\n",
    "np.random.seed(SEED)\n",
    "\n",
    "import pandas as pd\n",
    "\n",
    "from pytorch_tabular import TabularModel\n",
    "from pytorch_tabular.models import CategoryEmbeddingModelConfig\n",
    "from pytorch_tabular.config import (\n",
    "    DataConfig,\n",
    "    OptimizerConfig,\n",
    "    TrainerConfig,\n",
    ")\n",
    "\n",
    "import math\n",
    "from sklearn.metrics import mean_squared_error, r2_score\n",
    "import torch"
   ]
  },
  {
   "cell_type": "markdown",
   "metadata": {
    "id": "zGyEWcVlqKTz"
   },
   "source": [
    "> Divide the dataset (‘hdb_price_prediction.csv’) into train, validation and test sets by using entries from year 2019 and before as training data, year 2020 as validation data and year 2021 as test data.\n",
    "**Do not** use data from year 2022 and year 2023.\n",
    "\n"
   ]
  },
  {
   "cell_type": "code",
   "execution_count": 3,
   "metadata": {
    "id": "hoCPcOWupw5Y"
   },
   "outputs": [],
   "source": [
    "df = pd.read_csv('hdb_price_prediction.csv')\n",
    "\n",
    "# TODO: Enter your code here\n",
    "train_df = df[df['year'] <= 2019]\n",
    "val_df = df[df['year'] == 2020]\n",
    "test_df = df[df['year'] == 2021]\n",
    "\n",
    "# Remove the features not used to train the model\n",
    "train_df = train_df.drop(columns = ['year', 'nearest_stn', 'full_address'])\n",
    "val_df = val_df.drop(columns = ['year', 'nearest_stn', 'full_address'])\n",
    "test_df = test_df.drop(columns = ['year', 'nearest_stn', 'full_address'])"
   ]
  },
  {
   "cell_type": "markdown",
   "metadata": {
    "id": "sebMgSuzqPe7"
   },
   "source": [
    "> Refer to the documentation of **PyTorch Tabular** and perform the following tasks: https://pytorch-tabular.readthedocs.io/en/latest/#usage\n",
    "- Use **[DataConfig](https://pytorch-tabular.readthedocs.io/en/latest/data/)** to define the target variable, as well as the names of the continuous and categorical variables.\n",
    "- Use **[TrainerConfig](https://pytorch-tabular.readthedocs.io/en/latest/training/)** to automatically tune the learning rate. Set batch_size to be 1024 and set max_epoch as 50.\n",
    "- Use **[CategoryEmbeddingModelConfig](https://pytorch-tabular.readthedocs.io/en/latest/models/#category-embedding-model)** to create a feedforward neural network with 1 hidden layer containing 50 neurons.\n",
    "- Use **[OptimizerConfig](https://pytorch-tabular.readthedocs.io/en/latest/optimizer/)** to choose Adam optimiser. There is no need to set the learning rate (since it will be tuned automatically) nor scheduler.\n",
    "- Use **[TabularModel](https://pytorch-tabular.readthedocs.io/en/latest/tabular_model/)** to initialise the model and put all the configs together."
   ]
  },
  {
   "cell_type": "code",
   "execution_count": 4,
   "metadata": {
    "id": "ZZWAYdNhqPzh"
   },
   "outputs": [
    {
     "name": "stderr",
     "output_type": "stream",
     "text": [
      "2023-10-13 01:03:05,656 - {pytorch_tabular.tabular_model:105} - INFO - Experiment Tracking is turned off\n"
     ]
    }
   ],
   "source": [
    "# TODO: Enter your code here\n",
    "\n",
    "data_config = DataConfig(\n",
    "\ttarget=[\"resale_price\"],\n",
    "\tcontinuous_cols=[\"dist_to_nearest_stn\", \"dist_to_dhoby\", \"degree_centrality\", \"eigenvector_centrality\", \"remaining_lease_years\", \"floor_area_sqm\"],\n",
    "\tcategorical_cols=[\"month\", \"town\", \"flat_model_type\", \"storey_range\"],\n",
    ")\n",
    "\n",
    "trainer_config = TrainerConfig(batch_size=1024, max_epochs=50)\n",
    "\n",
    "model_config = CategoryEmbeddingModelConfig(\n",
    "\ttask=\"regression\",\n",
    "\tlayers=\"50\",  # Number of nodes in hidden layer\n",
    ")\n",
    "\n",
    "optimizer_config = OptimizerConfig(\n",
    "    optimizer=\"Adam\"\n",
    ")\n",
    "\n",
    "tabular_model = TabularModel(\n",
    "\tdata_config=data_config,\n",
    "\tmodel_config=model_config,\n",
    "\toptimizer_config=optimizer_config,\n",
    "\ttrainer_config=trainer_config,\n",
    ")"
   ]
  },
  {
   "cell_type": "code",
   "execution_count": 5,
   "metadata": {},
   "outputs": [
    {
     "name": "stderr",
     "output_type": "stream",
     "text": [
      "Global seed set to 42\n",
      "2023-10-13 01:03:05,848 - {pytorch_tabular.tabular_model:473} - INFO - Preparing the DataLoaders\n",
      "2023-10-13 01:03:05,853 - {pytorch_tabular.tabular_datamodule:290} - INFO - Setting up the datamodule for regression task\n",
      "2023-10-13 01:03:05,943 - {pytorch_tabular.tabular_model:521} - INFO - Preparing the Model: CategoryEmbeddingModel\n",
      "/Users/limxinyi/Library/Python/3.9/lib/python/site-packages/pytorch_tabular/models/base_model.py:147: UserWarning: Plotly is not installed. Please install plotly to log logits. You can install plotly using pip install plotly or install PyTorch Tabular using pip install pytorch-tabular[all]\n",
      "  warnings.warn(\n",
      "2023-10-13 01:03:05,989 - {pytorch_tabular.tabular_model:268} - INFO - Preparing the Trainer\n",
      "/Users/limxinyi/Library/Python/3.9/lib/python/site-packages/pytorch_lightning/trainer/connectors/accelerator_connector.py:589: LightningDeprecationWarning: The Trainer argument `auto_select_gpus` has been deprecated in v1.9.0 and will be removed in v2.0.0. Please use the function `pytorch_lightning.accelerators.find_usable_cuda_devices` instead.\n",
      "  rank_zero_deprecation(\n",
      "GPU available: True (mps), used: True\n",
      "TPU available: False, using: 0 TPU cores\n",
      "IPU available: False, using: 0 IPUs\n",
      "HPU available: False, using: 0 HPUs\n",
      "2023-10-13 01:03:06,081 - {pytorch_tabular.tabular_model:582} - INFO - Training Started\n"
     ]
    },
    {
     "data": {
      "text/html": [
       "<pre style=\"white-space:pre;overflow-x:auto;line-height:normal;font-family:Menlo,'DejaVu Sans Mono',consolas,'Courier New',monospace\">┏━━━┳━━━━━━━━━━━━━━━━━━┳━━━━━━━━━━━━━━━━━━━━━━━━━━━┳━━━━━━━━┓\n",
       "┃<span style=\"color: #800080; text-decoration-color: #800080; font-weight: bold\">   </span>┃<span style=\"color: #800080; text-decoration-color: #800080; font-weight: bold\"> Name             </span>┃<span style=\"color: #800080; text-decoration-color: #800080; font-weight: bold\"> Type                      </span>┃<span style=\"color: #800080; text-decoration-color: #800080; font-weight: bold\"> Params </span>┃\n",
       "┡━━━╇━━━━━━━━━━━━━━━━━━╇━━━━━━━━━━━━━━━━━━━━━━━━━━━╇━━━━━━━━┩\n",
       "│<span style=\"color: #7f7f7f; text-decoration-color: #7f7f7f\"> 0 </span>│ _backbone        │ CategoryEmbeddingBackbone │  2.9 K │\n",
       "│<span style=\"color: #7f7f7f; text-decoration-color: #7f7f7f\"> 1 </span>│ _embedding_layer │ Embedding1dLayer          │  1.5 K │\n",
       "│<span style=\"color: #7f7f7f; text-decoration-color: #7f7f7f\"> 2 </span>│ head             │ LinearHead                │     51 │\n",
       "│<span style=\"color: #7f7f7f; text-decoration-color: #7f7f7f\"> 3 </span>│ loss             │ MSELoss                   │      0 │\n",
       "└───┴──────────────────┴───────────────────────────┴────────┘\n",
       "</pre>\n"
      ],
      "text/plain": [
       "┏━━━┳━━━━━━━━━━━━━━━━━━┳━━━━━━━━━━━━━━━━━━━━━━━━━━━┳━━━━━━━━┓\n",
       "┃\u001b[1;35m \u001b[0m\u001b[1;35m \u001b[0m\u001b[1;35m \u001b[0m┃\u001b[1;35m \u001b[0m\u001b[1;35mName            \u001b[0m\u001b[1;35m \u001b[0m┃\u001b[1;35m \u001b[0m\u001b[1;35mType                     \u001b[0m\u001b[1;35m \u001b[0m┃\u001b[1;35m \u001b[0m\u001b[1;35mParams\u001b[0m\u001b[1;35m \u001b[0m┃\n",
       "┡━━━╇━━━━━━━━━━━━━━━━━━╇━━━━━━━━━━━━━━━━━━━━━━━━━━━╇━━━━━━━━┩\n",
       "│\u001b[2m \u001b[0m\u001b[2m0\u001b[0m\u001b[2m \u001b[0m│ _backbone        │ CategoryEmbeddingBackbone │  2.9 K │\n",
       "│\u001b[2m \u001b[0m\u001b[2m1\u001b[0m\u001b[2m \u001b[0m│ _embedding_layer │ Embedding1dLayer          │  1.5 K │\n",
       "│\u001b[2m \u001b[0m\u001b[2m2\u001b[0m\u001b[2m \u001b[0m│ head             │ LinearHead                │     51 │\n",
       "│\u001b[2m \u001b[0m\u001b[2m3\u001b[0m\u001b[2m \u001b[0m│ loss             │ MSELoss                   │      0 │\n",
       "└───┴──────────────────┴───────────────────────────┴────────┘\n"
      ]
     },
     "metadata": {},
     "output_type": "display_data"
    },
    {
     "data": {
      "text/html": [
       "<pre style=\"white-space:pre;overflow-x:auto;line-height:normal;font-family:Menlo,'DejaVu Sans Mono',consolas,'Courier New',monospace\"><span style=\"font-weight: bold\">Trainable params</span>: 4.5 K                                                                                            \n",
       "<span style=\"font-weight: bold\">Non-trainable params</span>: 0                                                                                            \n",
       "<span style=\"font-weight: bold\">Total params</span>: 4.5 K                                                                                                \n",
       "<span style=\"font-weight: bold\">Total estimated model params size (MB)</span>: 0                                                                          \n",
       "</pre>\n"
      ],
      "text/plain": [
       "\u001b[1mTrainable params\u001b[0m: 4.5 K                                                                                            \n",
       "\u001b[1mNon-trainable params\u001b[0m: 0                                                                                            \n",
       "\u001b[1mTotal params\u001b[0m: 4.5 K                                                                                                \n",
       "\u001b[1mTotal estimated model params size (MB)\u001b[0m: 0                                                                          \n"
      ]
     },
     "metadata": {},
     "output_type": "display_data"
    },
    {
     "data": {
      "application/vnd.jupyter.widget-view+json": {
       "model_id": "4656fda9eeee43e9b6c7230e029c9b4b",
       "version_major": 2,
       "version_minor": 0
      },
      "text/plain": [
       "Output()"
      ]
     },
     "metadata": {},
     "output_type": "display_data"
    },
    {
     "data": {
      "text/html": [
       "<pre style=\"white-space:pre;overflow-x:auto;line-height:normal;font-family:Menlo,'DejaVu Sans Mono',consolas,'Courier New',monospace\">/Users/limxinyi/Library/Python/3.9/lib/python/site-packages/pytorch_lightning/trainer/connectors/data_connector.py:\n",
       "224: PossibleUserWarning: The dataloader, val_dataloader 0, does not have many workers which may be a bottleneck. \n",
       "Consider increasing the value of the `num_workers` argument` (try 8 which is the number of cpus on this machine) in\n",
       "the `DataLoader` init to improve performance.\n",
       "  rank_zero_warn(\n",
       "</pre>\n"
      ],
      "text/plain": [
       "/Users/limxinyi/Library/Python/3.9/lib/python/site-packages/pytorch_lightning/trainer/connectors/data_connector.py:\n",
       "224: PossibleUserWarning: The dataloader, val_dataloader 0, does not have many workers which may be a bottleneck. \n",
       "Consider increasing the value of the `num_workers` argument` (try 8 which is the number of cpus on this machine) in\n",
       "the `DataLoader` init to improve performance.\n",
       "  rank_zero_warn(\n"
      ]
     },
     "metadata": {},
     "output_type": "display_data"
    },
    {
     "data": {
      "text/html": [
       "<pre style=\"white-space:pre;overflow-x:auto;line-height:normal;font-family:Menlo,'DejaVu Sans Mono',consolas,'Courier New',monospace\">/Users/limxinyi/Library/Python/3.9/lib/python/site-packages/pytorch_lightning/core/module.py:493: UserWarning: You \n",
       "called `self.log('valid_loss', ..., logger=True)` but have no logger configured. You can enable one by doing \n",
       "`Trainer(logger=ALogger(...))`\n",
       "  rank_zero_warn(\n",
       "</pre>\n"
      ],
      "text/plain": [
       "/Users/limxinyi/Library/Python/3.9/lib/python/site-packages/pytorch_lightning/core/module.py:493: UserWarning: You \n",
       "called `self.log('valid_loss', ..., logger=True)` but have no logger configured. You can enable one by doing \n",
       "`Trainer(logger=ALogger(...))`\n",
       "  rank_zero_warn(\n"
      ]
     },
     "metadata": {},
     "output_type": "display_data"
    },
    {
     "data": {
      "text/html": [
       "<pre style=\"white-space:pre;overflow-x:auto;line-height:normal;font-family:Menlo,'DejaVu Sans Mono',consolas,'Courier New',monospace\">/Users/limxinyi/Library/Python/3.9/lib/python/site-packages/pytorch_lightning/core/module.py:493: UserWarning: You \n",
       "called `self.log('valid_mean_squared_error', ..., logger=True)` but have no logger configured. You can enable one \n",
       "by doing `Trainer(logger=ALogger(...))`\n",
       "  rank_zero_warn(\n",
       "</pre>\n"
      ],
      "text/plain": [
       "/Users/limxinyi/Library/Python/3.9/lib/python/site-packages/pytorch_lightning/core/module.py:493: UserWarning: You \n",
       "called `self.log('valid_mean_squared_error', ..., logger=True)` but have no logger configured. You can enable one \n",
       "by doing `Trainer(logger=ALogger(...))`\n",
       "  rank_zero_warn(\n"
      ]
     },
     "metadata": {},
     "output_type": "display_data"
    },
    {
     "data": {
      "text/html": [
       "<pre style=\"white-space:pre;overflow-x:auto;line-height:normal;font-family:Menlo,'DejaVu Sans Mono',consolas,'Courier New',monospace\">/Users/limxinyi/Library/Python/3.9/lib/python/site-packages/pytorch_lightning/trainer/connectors/data_connector.py:\n",
       "224: PossibleUserWarning: The dataloader, train_dataloader, does not have many workers which may be a bottleneck. \n",
       "Consider increasing the value of the `num_workers` argument` (try 8 which is the number of cpus on this machine) in\n",
       "the `DataLoader` init to improve performance.\n",
       "  rank_zero_warn(\n",
       "</pre>\n"
      ],
      "text/plain": [
       "/Users/limxinyi/Library/Python/3.9/lib/python/site-packages/pytorch_lightning/trainer/connectors/data_connector.py:\n",
       "224: PossibleUserWarning: The dataloader, train_dataloader, does not have many workers which may be a bottleneck. \n",
       "Consider increasing the value of the `num_workers` argument` (try 8 which is the number of cpus on this machine) in\n",
       "the `DataLoader` init to improve performance.\n",
       "  rank_zero_warn(\n"
      ]
     },
     "metadata": {},
     "output_type": "display_data"
    },
    {
     "data": {
      "text/html": [
       "<pre style=\"white-space:pre;overflow-x:auto;line-height:normal;font-family:Menlo,'DejaVu Sans Mono',consolas,'Courier New',monospace\">/Users/limxinyi/Library/Python/3.9/lib/python/site-packages/pytorch_lightning/core/module.py:493: UserWarning: You \n",
       "called `self.log('train_loss', ..., logger=True)` but have no logger configured. You can enable one by doing \n",
       "`Trainer(logger=ALogger(...))`\n",
       "  rank_zero_warn(\n",
       "</pre>\n"
      ],
      "text/plain": [
       "/Users/limxinyi/Library/Python/3.9/lib/python/site-packages/pytorch_lightning/core/module.py:493: UserWarning: You \n",
       "called `self.log('train_loss', ..., logger=True)` but have no logger configured. You can enable one by doing \n",
       "`Trainer(logger=ALogger(...))`\n",
       "  rank_zero_warn(\n"
      ]
     },
     "metadata": {},
     "output_type": "display_data"
    },
    {
     "data": {
      "text/html": [
       "<pre style=\"white-space:pre;overflow-x:auto;line-height:normal;font-family:Menlo,'DejaVu Sans Mono',consolas,'Courier New',monospace\">/Users/limxinyi/Library/Python/3.9/lib/python/site-packages/pytorch_lightning/core/module.py:493: UserWarning: You \n",
       "called `self.log('train_mean_squared_error', ..., logger=True)` but have no logger configured. You can enable one \n",
       "by doing `Trainer(logger=ALogger(...))`\n",
       "  rank_zero_warn(\n",
       "</pre>\n"
      ],
      "text/plain": [
       "/Users/limxinyi/Library/Python/3.9/lib/python/site-packages/pytorch_lightning/core/module.py:493: UserWarning: You \n",
       "called `self.log('train_mean_squared_error', ..., logger=True)` but have no logger configured. You can enable one \n",
       "by doing `Trainer(logger=ALogger(...))`\n",
       "  rank_zero_warn(\n"
      ]
     },
     "metadata": {},
     "output_type": "display_data"
    },
    {
     "name": "stderr",
     "output_type": "stream",
     "text": [
      "`Trainer.fit` stopped: `max_epochs=50` reached.\n"
     ]
    },
    {
     "data": {
      "text/html": [
       "<pre style=\"white-space:pre;overflow-x:auto;line-height:normal;font-family:Menlo,'DejaVu Sans Mono',consolas,'Courier New',monospace\"></pre>\n"
      ],
      "text/plain": []
     },
     "metadata": {},
     "output_type": "display_data"
    },
    {
     "data": {
      "text/html": [
       "<pre style=\"white-space:pre;overflow-x:auto;line-height:normal;font-family:Menlo,'DejaVu Sans Mono',consolas,'Courier New',monospace\">\n",
       "</pre>\n"
      ],
      "text/plain": [
       "\n"
      ]
     },
     "metadata": {},
     "output_type": "display_data"
    },
    {
     "name": "stderr",
     "output_type": "stream",
     "text": [
      "2023-10-13 01:07:01,815 - {pytorch_tabular.tabular_model:584} - INFO - Training the model completed\n",
      "2023-10-13 01:07:01,815 - {pytorch_tabular.tabular_model:1258} - INFO - Loading the best model\n",
      "/Users/limxinyi/Library/Python/3.9/lib/python/site-packages/pytorch_lightning/utilities/cloud_io.py:33: LightningDeprecationWarning: `pytorch_lightning.utilities.cloud_io.get_filesystem` has been deprecated in v1.8.0 and will be removed in v2.0.0. Please use `lightning_fabric.utilities.cloud_io.get_filesystem` instead.\n",
      "  rank_zero_deprecation(\n"
     ]
    },
    {
     "data": {
      "text/plain": [
       "<pytorch_lightning.trainer.trainer.Trainer at 0x293d1d910>"
      ]
     },
     "execution_count": 5,
     "metadata": {},
     "output_type": "execute_result"
    }
   ],
   "source": [
    "# Fit model\n",
    "tabular_model.fit(train=train_df, validation=val_df)"
   ]
  },
  {
   "cell_type": "code",
   "execution_count": 6,
   "metadata": {},
   "outputs": [],
   "source": [
    "torch.save(tabular_model, 'b1_model')"
   ]
  },
  {
   "cell_type": "code",
   "execution_count": 11,
   "metadata": {},
   "outputs": [
    {
     "data": {
      "application/vnd.jupyter.widget-view+json": {
       "model_id": "9f0df1ee6f3646e08c270f7fd8bc8ddc",
       "version_major": 2,
       "version_minor": 0
      },
      "text/plain": [
       "Output()"
      ]
     },
     "metadata": {},
     "output_type": "display_data"
    },
    {
     "data": {
      "text/html": [
       "<pre style=\"white-space:pre;overflow-x:auto;line-height:normal;font-family:Menlo,'DejaVu Sans Mono',consolas,'Courier New',monospace\">/Users/limxinyi/Library/Python/3.9/lib/python/site-packages/pytorch_lightning/core/module.py:493: UserWarning: You \n",
       "called `self.log('test_loss', ..., logger=True)` but have no logger configured. You can enable one by doing \n",
       "`Trainer(logger=ALogger(...))`\n",
       "  rank_zero_warn(\n",
       "</pre>\n"
      ],
      "text/plain": [
       "/Users/limxinyi/Library/Python/3.9/lib/python/site-packages/pytorch_lightning/core/module.py:493: UserWarning: You \n",
       "called `self.log('test_loss', ..., logger=True)` but have no logger configured. You can enable one by doing \n",
       "`Trainer(logger=ALogger(...))`\n",
       "  rank_zero_warn(\n"
      ]
     },
     "metadata": {},
     "output_type": "display_data"
    },
    {
     "data": {
      "text/html": [
       "<pre style=\"white-space:pre;overflow-x:auto;line-height:normal;font-family:Menlo,'DejaVu Sans Mono',consolas,'Courier New',monospace\">/Users/limxinyi/Library/Python/3.9/lib/python/site-packages/pytorch_lightning/core/module.py:493: UserWarning: You \n",
       "called `self.log('test_mean_squared_error', ..., logger=True)` but have no logger configured. You can enable one by\n",
       "doing `Trainer(logger=ALogger(...))`\n",
       "  rank_zero_warn(\n",
       "</pre>\n"
      ],
      "text/plain": [
       "/Users/limxinyi/Library/Python/3.9/lib/python/site-packages/pytorch_lightning/core/module.py:493: UserWarning: You \n",
       "called `self.log('test_mean_squared_error', ..., logger=True)` but have no logger configured. You can enable one by\n",
       "doing `Trainer(logger=ALogger(...))`\n",
       "  rank_zero_warn(\n"
      ]
     },
     "metadata": {},
     "output_type": "display_data"
    },
    {
     "name": "stderr",
     "output_type": "stream",
     "text": [
      "/Users/limxinyi/Library/Python/3.9/lib/python/site-packages/pytorch_lightning/trainer/connectors/data_connector.py:224: PossibleUserWarning: The dataloader, test_dataloader 0, does not have many workers which may be a bottleneck. Consider increasing the value of the `num_workers` argument` (try 8 which is the number of cpus on this machine) in the `DataLoader` init to improve performance.\n",
      "  rank_zero_warn(\n"
     ]
    },
    {
     "data": {
      "text/html": [
       "<pre style=\"white-space:pre;overflow-x:auto;line-height:normal;font-family:Menlo,'DejaVu Sans Mono',consolas,'Courier New',monospace\">┏━━━━━━━━━━━━━━━━━━━━━━━━━━━┳━━━━━━━━━━━━━━━━━━━━━━━━━━━┓\n",
       "┃<span style=\"font-weight: bold\">        Test metric        </span>┃<span style=\"font-weight: bold\">       DataLoader 0        </span>┃\n",
       "┡━━━━━━━━━━━━━━━━━━━━━━━━━━━╇━━━━━━━━━━━━━━━━━━━━━━━━━━━┩\n",
       "│<span style=\"color: #008080; text-decoration-color: #008080\">         test_loss         </span>│<span style=\"color: #800080; text-decoration-color: #800080\">       94182481920.0       </span>│\n",
       "│<span style=\"color: #008080; text-decoration-color: #008080\">  test_mean_squared_error  </span>│<span style=\"color: #800080; text-decoration-color: #800080\">       94182481920.0       </span>│\n",
       "└───────────────────────────┴───────────────────────────┘\n",
       "</pre>\n"
      ],
      "text/plain": [
       "┏━━━━━━━━━━━━━━━━━━━━━━━━━━━┳━━━━━━━━━━━━━━━━━━━━━━━━━━━┓\n",
       "┃\u001b[1m \u001b[0m\u001b[1m       Test metric       \u001b[0m\u001b[1m \u001b[0m┃\u001b[1m \u001b[0m\u001b[1m      DataLoader 0       \u001b[0m\u001b[1m \u001b[0m┃\n",
       "┡━━━━━━━━━━━━━━━━━━━━━━━━━━━╇━━━━━━━━━━━━━━━━━━━━━━━━━━━┩\n",
       "│\u001b[36m \u001b[0m\u001b[36m        test_loss        \u001b[0m\u001b[36m \u001b[0m│\u001b[35m \u001b[0m\u001b[35m      94182481920.0      \u001b[0m\u001b[35m \u001b[0m│\n",
       "│\u001b[36m \u001b[0m\u001b[36m test_mean_squared_error \u001b[0m\u001b[36m \u001b[0m│\u001b[35m \u001b[0m\u001b[35m      94182481920.0      \u001b[0m\u001b[35m \u001b[0m│\n",
       "└───────────────────────────┴───────────────────────────┘\n"
      ]
     },
     "metadata": {},
     "output_type": "display_data"
    },
    {
     "data": {
      "text/html": [
       "<pre style=\"white-space:pre;overflow-x:auto;line-height:normal;font-family:Menlo,'DejaVu Sans Mono',consolas,'Courier New',monospace\"></pre>\n"
      ],
      "text/plain": []
     },
     "metadata": {},
     "output_type": "display_data"
    },
    {
     "data": {
      "text/html": [
       "<pre style=\"white-space:pre;overflow-x:auto;line-height:normal;font-family:Menlo,'DejaVu Sans Mono',consolas,'Courier New',monospace\">\n",
       "</pre>\n"
      ],
      "text/plain": [
       "\n"
      ]
     },
     "metadata": {},
     "output_type": "display_data"
    },
    {
     "data": {
      "application/vnd.jupyter.widget-view+json": {
       "model_id": "c622113d88f54db0b019ecce6136dcde",
       "version_major": 2,
       "version_minor": 0
      },
      "text/plain": [
       "Output()"
      ]
     },
     "metadata": {},
     "output_type": "display_data"
    },
    {
     "data": {
      "text/html": [
       "<pre style=\"white-space:pre;overflow-x:auto;line-height:normal;font-family:Menlo,'DejaVu Sans Mono',consolas,'Courier New',monospace\"></pre>\n"
      ],
      "text/plain": []
     },
     "metadata": {},
     "output_type": "display_data"
    },
    {
     "data": {
      "text/html": [
       "<pre style=\"white-space:pre;overflow-x:auto;line-height:normal;font-family:Menlo,'DejaVu Sans Mono',consolas,'Courier New',monospace\">\n",
       "</pre>\n"
      ],
      "text/plain": [
       "\n"
      ]
     },
     "metadata": {},
     "output_type": "display_data"
    }
   ],
   "source": [
    "result = tabular_model.evaluate(test_df)\n",
    "pred_df = tabular_model.predict(test_df)"
   ]
  },
  {
   "cell_type": "markdown",
   "metadata": {
    "id": "-2UXPKq0qWQG"
   },
   "source": [
    "> Report the test RMSE error and the test R2 value that you obtained.\n",
    "\n"
   ]
  },
  {
   "cell_type": "code",
   "execution_count": 12,
   "metadata": {},
   "outputs": [
    {
     "name": "stdout",
     "output_type": "stream",
     "text": [
      "Root Mean Squared Error:  306891.6452430727\n",
      "R2 Score:  -2.5605117375142203\n"
     ]
    }
   ],
   "source": [
    "mse = result[0]['test_mean_squared_error']\n",
    "rsme = math.sqrt(mse)\n",
    "\n",
    "r2 = r2_score(y_true = list(pred_df['resale_price']), y_pred = list(pred_df['resale_price_prediction']))\n",
    "\n",
    "print(\"Root Mean Squared Error: \", rsme)\n",
    "print(\"R2 Score: \", r2)"
   ]
  },
  {
   "cell_type": "markdown",
   "metadata": {
    "id": "zmE9Bc7Nqadi"
   },
   "source": [
    "\\# TODO: \\<Enter your answer here\\>\n",
    "\n",
    "Root Mean Squared Error:  306891.6452430727 <br>\n",
    "R2 Score:  -2.5605117375142203"
   ]
  },
  {
   "cell_type": "markdown",
   "metadata": {
    "id": "NEJhRU18qX22"
   },
   "source": [
    "> Print out the corresponding rows in the dataframe for the top 25 test samples with the largest errors. Identify a trend in these poor predictions and suggest a way to reduce these errors.\n",
    "\n"
   ]
  },
  {
   "cell_type": "code",
   "execution_count": 13,
   "metadata": {
    "id": "5ma5K9vKqZEq"
   },
   "outputs": [
    {
     "data": {
      "text/html": [
       "<div>\n",
       "<style scoped>\n",
       "    .dataframe tbody tr th:only-of-type {\n",
       "        vertical-align: middle;\n",
       "    }\n",
       "\n",
       "    .dataframe tbody tr th {\n",
       "        vertical-align: top;\n",
       "    }\n",
       "\n",
       "    .dataframe thead th {\n",
       "        text-align: right;\n",
       "    }\n",
       "</style>\n",
       "<table border=\"1\" class=\"dataframe\">\n",
       "  <thead>\n",
       "    <tr style=\"text-align: right;\">\n",
       "      <th></th>\n",
       "      <th>month</th>\n",
       "      <th>town</th>\n",
       "      <th>dist_to_nearest_stn</th>\n",
       "      <th>dist_to_dhoby</th>\n",
       "      <th>degree_centrality</th>\n",
       "      <th>eigenvector_centrality</th>\n",
       "      <th>flat_model_type</th>\n",
       "      <th>remaining_lease_years</th>\n",
       "      <th>floor_area_sqm</th>\n",
       "      <th>storey_range</th>\n",
       "      <th>resale_price</th>\n",
       "      <th>resale_price_prediction</th>\n",
       "      <th>error</th>\n",
       "    </tr>\n",
       "  </thead>\n",
       "  <tbody>\n",
       "    <tr>\n",
       "      <th>106199</th>\n",
       "      <td>12</td>\n",
       "      <td>QUEENSTOWN</td>\n",
       "      <td>0.584731</td>\n",
       "      <td>3.882019</td>\n",
       "      <td>0.016807</td>\n",
       "      <td>0.008342</td>\n",
       "      <td>5 ROOM, Premium Apartment Loft</td>\n",
       "      <td>93.333333</td>\n",
       "      <td>122.0</td>\n",
       "      <td>40 TO 42</td>\n",
       "      <td>1328000.0</td>\n",
       "      <td>173652.109375</td>\n",
       "      <td>1.154348e+06</td>\n",
       "    </tr>\n",
       "    <tr>\n",
       "      <th>90608</th>\n",
       "      <td>12</td>\n",
       "      <td>BISHAN</td>\n",
       "      <td>0.776182</td>\n",
       "      <td>6.297489</td>\n",
       "      <td>0.033613</td>\n",
       "      <td>0.015854</td>\n",
       "      <td>5 ROOM, DBSS</td>\n",
       "      <td>88.833333</td>\n",
       "      <td>120.0</td>\n",
       "      <td>37 TO 39</td>\n",
       "      <td>1360000.0</td>\n",
       "      <td>244618.953125</td>\n",
       "      <td>1.115381e+06</td>\n",
       "    </tr>\n",
       "    <tr>\n",
       "      <th>93930</th>\n",
       "      <td>12</td>\n",
       "      <td>CENTRAL AREA</td>\n",
       "      <td>0.438348</td>\n",
       "      <td>2.506568</td>\n",
       "      <td>0.033613</td>\n",
       "      <td>0.121082</td>\n",
       "      <td>5 ROOM, Type S2</td>\n",
       "      <td>88.166667</td>\n",
       "      <td>107.0</td>\n",
       "      <td>46 TO 48</td>\n",
       "      <td>1280000.0</td>\n",
       "      <td>204889.765625</td>\n",
       "      <td>1.075110e+06</td>\n",
       "    </tr>\n",
       "    <tr>\n",
       "      <th>93931</th>\n",
       "      <td>12</td>\n",
       "      <td>CENTRAL AREA</td>\n",
       "      <td>0.352779</td>\n",
       "      <td>2.413099</td>\n",
       "      <td>0.033613</td>\n",
       "      <td>0.121082</td>\n",
       "      <td>5 ROOM, Type S2</td>\n",
       "      <td>88.083333</td>\n",
       "      <td>107.0</td>\n",
       "      <td>40 TO 42</td>\n",
       "      <td>1288000.0</td>\n",
       "      <td>224400.125000</td>\n",
       "      <td>1.063600e+06</td>\n",
       "    </tr>\n",
       "    <tr>\n",
       "      <th>100836</th>\n",
       "      <td>6</td>\n",
       "      <td>KALLANG/WHAMPOA</td>\n",
       "      <td>0.998313</td>\n",
       "      <td>3.304953</td>\n",
       "      <td>0.016807</td>\n",
       "      <td>0.053004</td>\n",
       "      <td>3 ROOM, Terrace</td>\n",
       "      <td>50.083333</td>\n",
       "      <td>210.0</td>\n",
       "      <td>01 TO 03</td>\n",
       "      <td>1268000.0</td>\n",
       "      <td>213496.906250</td>\n",
       "      <td>1.054503e+06</td>\n",
       "    </tr>\n",
       "    <tr>\n",
       "      <th>90483</th>\n",
       "      <td>9</td>\n",
       "      <td>BISHAN</td>\n",
       "      <td>0.767244</td>\n",
       "      <td>6.327956</td>\n",
       "      <td>0.033613</td>\n",
       "      <td>0.015854</td>\n",
       "      <td>5 ROOM, DBSS</td>\n",
       "      <td>89.000000</td>\n",
       "      <td>120.0</td>\n",
       "      <td>37 TO 39</td>\n",
       "      <td>1295000.0</td>\n",
       "      <td>243080.625000</td>\n",
       "      <td>1.051919e+06</td>\n",
       "    </tr>\n",
       "    <tr>\n",
       "      <th>93929</th>\n",
       "      <td>12</td>\n",
       "      <td>CENTRAL AREA</td>\n",
       "      <td>0.352779</td>\n",
       "      <td>2.413099</td>\n",
       "      <td>0.033613</td>\n",
       "      <td>0.121082</td>\n",
       "      <td>5 ROOM, Type S2</td>\n",
       "      <td>88.083333</td>\n",
       "      <td>106.0</td>\n",
       "      <td>43 TO 45</td>\n",
       "      <td>1254000.0</td>\n",
       "      <td>202370.812500</td>\n",
       "      <td>1.051629e+06</td>\n",
       "    </tr>\n",
       "    <tr>\n",
       "      <th>93904</th>\n",
       "      <td>11</td>\n",
       "      <td>CENTRAL AREA</td>\n",
       "      <td>0.401367</td>\n",
       "      <td>2.445314</td>\n",
       "      <td>0.033613</td>\n",
       "      <td>0.121082</td>\n",
       "      <td>5 ROOM, Type S2</td>\n",
       "      <td>88.333333</td>\n",
       "      <td>106.0</td>\n",
       "      <td>40 TO 42</td>\n",
       "      <td>1261000.0</td>\n",
       "      <td>229243.781250</td>\n",
       "      <td>1.031756e+06</td>\n",
       "    </tr>\n",
       "    <tr>\n",
       "      <th>90432</th>\n",
       "      <td>8</td>\n",
       "      <td>BISHAN</td>\n",
       "      <td>0.827889</td>\n",
       "      <td>6.370404</td>\n",
       "      <td>0.033613</td>\n",
       "      <td>0.015854</td>\n",
       "      <td>5 ROOM, DBSS</td>\n",
       "      <td>88.916667</td>\n",
       "      <td>120.0</td>\n",
       "      <td>25 TO 27</td>\n",
       "      <td>1280000.0</td>\n",
       "      <td>249152.750000</td>\n",
       "      <td>1.030847e+06</td>\n",
       "    </tr>\n",
       "    <tr>\n",
       "      <th>101087</th>\n",
       "      <td>9</td>\n",
       "      <td>KALLANG/WHAMPOA</td>\n",
       "      <td>0.987682</td>\n",
       "      <td>3.383526</td>\n",
       "      <td>0.016807</td>\n",
       "      <td>0.053004</td>\n",
       "      <td>3 ROOM, Terrace</td>\n",
       "      <td>49.833333</td>\n",
       "      <td>241.0</td>\n",
       "      <td>01 TO 03</td>\n",
       "      <td>1235000.0</td>\n",
       "      <td>210541.546875</td>\n",
       "      <td>1.024458e+06</td>\n",
       "    </tr>\n",
       "    <tr>\n",
       "      <th>101237</th>\n",
       "      <td>11</td>\n",
       "      <td>KALLANG/WHAMPOA</td>\n",
       "      <td>0.352251</td>\n",
       "      <td>2.587444</td>\n",
       "      <td>0.016807</td>\n",
       "      <td>0.004414</td>\n",
       "      <td>5 ROOM, DBSS</td>\n",
       "      <td>88.250000</td>\n",
       "      <td>119.0</td>\n",
       "      <td>40 TO 42</td>\n",
       "      <td>1268000.0</td>\n",
       "      <td>249187.625000</td>\n",
       "      <td>1.018812e+06</td>\n",
       "    </tr>\n",
       "    <tr>\n",
       "      <th>90253</th>\n",
       "      <td>4</td>\n",
       "      <td>BISHAN</td>\n",
       "      <td>0.776182</td>\n",
       "      <td>6.297489</td>\n",
       "      <td>0.033613</td>\n",
       "      <td>0.015854</td>\n",
       "      <td>5 ROOM, DBSS</td>\n",
       "      <td>89.416667</td>\n",
       "      <td>120.0</td>\n",
       "      <td>31 TO 33</td>\n",
       "      <td>1250000.0</td>\n",
       "      <td>237101.421875</td>\n",
       "      <td>1.012899e+06</td>\n",
       "    </tr>\n",
       "    <tr>\n",
       "      <th>90523</th>\n",
       "      <td>10</td>\n",
       "      <td>BISHAN</td>\n",
       "      <td>0.776182</td>\n",
       "      <td>6.297489</td>\n",
       "      <td>0.033613</td>\n",
       "      <td>0.015854</td>\n",
       "      <td>5 ROOM, DBSS</td>\n",
       "      <td>88.916667</td>\n",
       "      <td>120.0</td>\n",
       "      <td>22 TO 24</td>\n",
       "      <td>1260000.0</td>\n",
       "      <td>250818.343750</td>\n",
       "      <td>1.009182e+06</td>\n",
       "    </tr>\n",
       "    <tr>\n",
       "      <th>93835</th>\n",
       "      <td>8</td>\n",
       "      <td>CENTRAL AREA</td>\n",
       "      <td>0.566594</td>\n",
       "      <td>2.661710</td>\n",
       "      <td>0.033613</td>\n",
       "      <td>0.121082</td>\n",
       "      <td>5 ROOM, Type S2</td>\n",
       "      <td>88.500000</td>\n",
       "      <td>107.0</td>\n",
       "      <td>46 TO 48</td>\n",
       "      <td>1210000.0</td>\n",
       "      <td>204437.171875</td>\n",
       "      <td>1.005563e+06</td>\n",
       "    </tr>\n",
       "    <tr>\n",
       "      <th>93756</th>\n",
       "      <td>4</td>\n",
       "      <td>CENTRAL AREA</td>\n",
       "      <td>0.438348</td>\n",
       "      <td>2.506568</td>\n",
       "      <td>0.033613</td>\n",
       "      <td>0.121082</td>\n",
       "      <td>5 ROOM, Type S2</td>\n",
       "      <td>88.833333</td>\n",
       "      <td>105.0</td>\n",
       "      <td>49 TO 51</td>\n",
       "      <td>1200000.0</td>\n",
       "      <td>195917.046875</td>\n",
       "      <td>1.004083e+06</td>\n",
       "    </tr>\n",
       "    <tr>\n",
       "      <th>93814</th>\n",
       "      <td>7</td>\n",
       "      <td>CENTRAL AREA</td>\n",
       "      <td>0.352779</td>\n",
       "      <td>2.413099</td>\n",
       "      <td>0.033613</td>\n",
       "      <td>0.121082</td>\n",
       "      <td>5 ROOM, Type S2</td>\n",
       "      <td>88.583333</td>\n",
       "      <td>106.0</td>\n",
       "      <td>40 TO 42</td>\n",
       "      <td>1225000.0</td>\n",
       "      <td>222981.312500</td>\n",
       "      <td>1.002019e+06</td>\n",
       "    </tr>\n",
       "    <tr>\n",
       "      <th>92443</th>\n",
       "      <td>11</td>\n",
       "      <td>BUKIT MERAH</td>\n",
       "      <td>0.586629</td>\n",
       "      <td>2.932814</td>\n",
       "      <td>0.016807</td>\n",
       "      <td>0.047782</td>\n",
       "      <td>5 ROOM, Improved</td>\n",
       "      <td>96.583333</td>\n",
       "      <td>113.0</td>\n",
       "      <td>40 TO 42</td>\n",
       "      <td>1256000.0</td>\n",
       "      <td>254873.640625</td>\n",
       "      <td>1.001126e+06</td>\n",
       "    </tr>\n",
       "    <tr>\n",
       "      <th>93858</th>\n",
       "      <td>9</td>\n",
       "      <td>CENTRAL AREA</td>\n",
       "      <td>0.438348</td>\n",
       "      <td>2.506568</td>\n",
       "      <td>0.033613</td>\n",
       "      <td>0.121082</td>\n",
       "      <td>4 ROOM, Type S1</td>\n",
       "      <td>88.333333</td>\n",
       "      <td>93.0</td>\n",
       "      <td>46 TO 48</td>\n",
       "      <td>1200000.0</td>\n",
       "      <td>202144.109375</td>\n",
       "      <td>9.978559e+05</td>\n",
       "    </tr>\n",
       "    <tr>\n",
       "      <th>112731</th>\n",
       "      <td>8</td>\n",
       "      <td>TOA PAYOH</td>\n",
       "      <td>0.461414</td>\n",
       "      <td>4.151360</td>\n",
       "      <td>0.016807</td>\n",
       "      <td>0.017995</td>\n",
       "      <td>5 ROOM, DBSS</td>\n",
       "      <td>89.833333</td>\n",
       "      <td>114.0</td>\n",
       "      <td>40 TO 42</td>\n",
       "      <td>1238000.0</td>\n",
       "      <td>241015.046875</td>\n",
       "      <td>9.969850e+05</td>\n",
       "    </tr>\n",
       "    <tr>\n",
       "      <th>93670</th>\n",
       "      <td>12</td>\n",
       "      <td>BUKIT TIMAH</td>\n",
       "      <td>0.428356</td>\n",
       "      <td>8.948410</td>\n",
       "      <td>0.016807</td>\n",
       "      <td>0.001358</td>\n",
       "      <td>EXECUTIVE, Maisonette</td>\n",
       "      <td>66.666667</td>\n",
       "      <td>154.0</td>\n",
       "      <td>04 TO 06</td>\n",
       "      <td>1238000.0</td>\n",
       "      <td>244182.578125</td>\n",
       "      <td>9.938174e+05</td>\n",
       "    </tr>\n",
       "    <tr>\n",
       "      <th>112973</th>\n",
       "      <td>11</td>\n",
       "      <td>TOA PAYOH</td>\n",
       "      <td>0.471864</td>\n",
       "      <td>4.101820</td>\n",
       "      <td>0.016807</td>\n",
       "      <td>0.036944</td>\n",
       "      <td>5 ROOM, DBSS</td>\n",
       "      <td>89.500000</td>\n",
       "      <td>114.0</td>\n",
       "      <td>40 TO 42</td>\n",
       "      <td>1240000.0</td>\n",
       "      <td>246850.593750</td>\n",
       "      <td>9.931494e+05</td>\n",
       "    </tr>\n",
       "    <tr>\n",
       "      <th>90431</th>\n",
       "      <td>8</td>\n",
       "      <td>BISHAN</td>\n",
       "      <td>0.767244</td>\n",
       "      <td>6.327956</td>\n",
       "      <td>0.033613</td>\n",
       "      <td>0.015854</td>\n",
       "      <td>5 ROOM, DBSS</td>\n",
       "      <td>89.083333</td>\n",
       "      <td>120.0</td>\n",
       "      <td>22 TO 24</td>\n",
       "      <td>1240000.0</td>\n",
       "      <td>248962.890625</td>\n",
       "      <td>9.910371e+05</td>\n",
       "    </tr>\n",
       "    <tr>\n",
       "      <th>105702</th>\n",
       "      <td>6</td>\n",
       "      <td>QUEENSTOWN</td>\n",
       "      <td>0.245207</td>\n",
       "      <td>4.709043</td>\n",
       "      <td>0.016807</td>\n",
       "      <td>0.008342</td>\n",
       "      <td>EXECUTIVE, Apartment</td>\n",
       "      <td>73.416667</td>\n",
       "      <td>148.0</td>\n",
       "      <td>10 TO 12</td>\n",
       "      <td>1235000.0</td>\n",
       "      <td>244781.500000</td>\n",
       "      <td>9.902185e+05</td>\n",
       "    </tr>\n",
       "    <tr>\n",
       "      <th>92340</th>\n",
       "      <td>10</td>\n",
       "      <td>BUKIT MERAH</td>\n",
       "      <td>0.451387</td>\n",
       "      <td>2.128424</td>\n",
       "      <td>0.016807</td>\n",
       "      <td>0.047782</td>\n",
       "      <td>5 ROOM, Improved</td>\n",
       "      <td>90.750000</td>\n",
       "      <td>114.0</td>\n",
       "      <td>34 TO 36</td>\n",
       "      <td>1245000.0</td>\n",
       "      <td>255774.640625</td>\n",
       "      <td>9.892254e+05</td>\n",
       "    </tr>\n",
       "    <tr>\n",
       "      <th>90340</th>\n",
       "      <td>6</td>\n",
       "      <td>BISHAN</td>\n",
       "      <td>0.767244</td>\n",
       "      <td>6.327956</td>\n",
       "      <td>0.033613</td>\n",
       "      <td>0.015854</td>\n",
       "      <td>5 ROOM, DBSS</td>\n",
       "      <td>89.250000</td>\n",
       "      <td>120.0</td>\n",
       "      <td>25 TO 27</td>\n",
       "      <td>1238800.0</td>\n",
       "      <td>251956.109375</td>\n",
       "      <td>9.868439e+05</td>\n",
       "    </tr>\n",
       "  </tbody>\n",
       "</table>\n",
       "</div>"
      ],
      "text/plain": [
       "        month             town  dist_to_nearest_stn  dist_to_dhoby  \\\n",
       "106199     12       QUEENSTOWN             0.584731       3.882019   \n",
       "90608      12           BISHAN             0.776182       6.297489   \n",
       "93930      12     CENTRAL AREA             0.438348       2.506568   \n",
       "93931      12     CENTRAL AREA             0.352779       2.413099   \n",
       "100836      6  KALLANG/WHAMPOA             0.998313       3.304953   \n",
       "90483       9           BISHAN             0.767244       6.327956   \n",
       "93929      12     CENTRAL AREA             0.352779       2.413099   \n",
       "93904      11     CENTRAL AREA             0.401367       2.445314   \n",
       "90432       8           BISHAN             0.827889       6.370404   \n",
       "101087      9  KALLANG/WHAMPOA             0.987682       3.383526   \n",
       "101237     11  KALLANG/WHAMPOA             0.352251       2.587444   \n",
       "90253       4           BISHAN             0.776182       6.297489   \n",
       "90523      10           BISHAN             0.776182       6.297489   \n",
       "93835       8     CENTRAL AREA             0.566594       2.661710   \n",
       "93756       4     CENTRAL AREA             0.438348       2.506568   \n",
       "93814       7     CENTRAL AREA             0.352779       2.413099   \n",
       "92443      11      BUKIT MERAH             0.586629       2.932814   \n",
       "93858       9     CENTRAL AREA             0.438348       2.506568   \n",
       "112731      8        TOA PAYOH             0.461414       4.151360   \n",
       "93670      12      BUKIT TIMAH             0.428356       8.948410   \n",
       "112973     11        TOA PAYOH             0.471864       4.101820   \n",
       "90431       8           BISHAN             0.767244       6.327956   \n",
       "105702      6       QUEENSTOWN             0.245207       4.709043   \n",
       "92340      10      BUKIT MERAH             0.451387       2.128424   \n",
       "90340       6           BISHAN             0.767244       6.327956   \n",
       "\n",
       "        degree_centrality  eigenvector_centrality  \\\n",
       "106199           0.016807                0.008342   \n",
       "90608            0.033613                0.015854   \n",
       "93930            0.033613                0.121082   \n",
       "93931            0.033613                0.121082   \n",
       "100836           0.016807                0.053004   \n",
       "90483            0.033613                0.015854   \n",
       "93929            0.033613                0.121082   \n",
       "93904            0.033613                0.121082   \n",
       "90432            0.033613                0.015854   \n",
       "101087           0.016807                0.053004   \n",
       "101237           0.016807                0.004414   \n",
       "90253            0.033613                0.015854   \n",
       "90523            0.033613                0.015854   \n",
       "93835            0.033613                0.121082   \n",
       "93756            0.033613                0.121082   \n",
       "93814            0.033613                0.121082   \n",
       "92443            0.016807                0.047782   \n",
       "93858            0.033613                0.121082   \n",
       "112731           0.016807                0.017995   \n",
       "93670            0.016807                0.001358   \n",
       "112973           0.016807                0.036944   \n",
       "90431            0.033613                0.015854   \n",
       "105702           0.016807                0.008342   \n",
       "92340            0.016807                0.047782   \n",
       "90340            0.033613                0.015854   \n",
       "\n",
       "                       flat_model_type  remaining_lease_years  floor_area_sqm  \\\n",
       "106199  5 ROOM, Premium Apartment Loft              93.333333           122.0   \n",
       "90608                     5 ROOM, DBSS              88.833333           120.0   \n",
       "93930                  5 ROOM, Type S2              88.166667           107.0   \n",
       "93931                  5 ROOM, Type S2              88.083333           107.0   \n",
       "100836                 3 ROOM, Terrace              50.083333           210.0   \n",
       "90483                     5 ROOM, DBSS              89.000000           120.0   \n",
       "93929                  5 ROOM, Type S2              88.083333           106.0   \n",
       "93904                  5 ROOM, Type S2              88.333333           106.0   \n",
       "90432                     5 ROOM, DBSS              88.916667           120.0   \n",
       "101087                 3 ROOM, Terrace              49.833333           241.0   \n",
       "101237                    5 ROOM, DBSS              88.250000           119.0   \n",
       "90253                     5 ROOM, DBSS              89.416667           120.0   \n",
       "90523                     5 ROOM, DBSS              88.916667           120.0   \n",
       "93835                  5 ROOM, Type S2              88.500000           107.0   \n",
       "93756                  5 ROOM, Type S2              88.833333           105.0   \n",
       "93814                  5 ROOM, Type S2              88.583333           106.0   \n",
       "92443                 5 ROOM, Improved              96.583333           113.0   \n",
       "93858                  4 ROOM, Type S1              88.333333            93.0   \n",
       "112731                    5 ROOM, DBSS              89.833333           114.0   \n",
       "93670            EXECUTIVE, Maisonette              66.666667           154.0   \n",
       "112973                    5 ROOM, DBSS              89.500000           114.0   \n",
       "90431                     5 ROOM, DBSS              89.083333           120.0   \n",
       "105702            EXECUTIVE, Apartment              73.416667           148.0   \n",
       "92340                 5 ROOM, Improved              90.750000           114.0   \n",
       "90340                     5 ROOM, DBSS              89.250000           120.0   \n",
       "\n",
       "       storey_range  resale_price  resale_price_prediction         error  \n",
       "106199     40 TO 42     1328000.0            173652.109375  1.154348e+06  \n",
       "90608      37 TO 39     1360000.0            244618.953125  1.115381e+06  \n",
       "93930      46 TO 48     1280000.0            204889.765625  1.075110e+06  \n",
       "93931      40 TO 42     1288000.0            224400.125000  1.063600e+06  \n",
       "100836     01 TO 03     1268000.0            213496.906250  1.054503e+06  \n",
       "90483      37 TO 39     1295000.0            243080.625000  1.051919e+06  \n",
       "93929      43 TO 45     1254000.0            202370.812500  1.051629e+06  \n",
       "93904      40 TO 42     1261000.0            229243.781250  1.031756e+06  \n",
       "90432      25 TO 27     1280000.0            249152.750000  1.030847e+06  \n",
       "101087     01 TO 03     1235000.0            210541.546875  1.024458e+06  \n",
       "101237     40 TO 42     1268000.0            249187.625000  1.018812e+06  \n",
       "90253      31 TO 33     1250000.0            237101.421875  1.012899e+06  \n",
       "90523      22 TO 24     1260000.0            250818.343750  1.009182e+06  \n",
       "93835      46 TO 48     1210000.0            204437.171875  1.005563e+06  \n",
       "93756      49 TO 51     1200000.0            195917.046875  1.004083e+06  \n",
       "93814      40 TO 42     1225000.0            222981.312500  1.002019e+06  \n",
       "92443      40 TO 42     1256000.0            254873.640625  1.001126e+06  \n",
       "93858      46 TO 48     1200000.0            202144.109375  9.978559e+05  \n",
       "112731     40 TO 42     1238000.0            241015.046875  9.969850e+05  \n",
       "93670      04 TO 06     1238000.0            244182.578125  9.938174e+05  \n",
       "112973     40 TO 42     1240000.0            246850.593750  9.931494e+05  \n",
       "90431      22 TO 24     1240000.0            248962.890625  9.910371e+05  \n",
       "105702     10 TO 12     1235000.0            244781.500000  9.902185e+05  \n",
       "92340      34 TO 36     1245000.0            255774.640625  9.892254e+05  \n",
       "90340      25 TO 27     1238800.0            251956.109375  9.868439e+05  "
      ]
     },
     "execution_count": 13,
     "metadata": {},
     "output_type": "execute_result"
    }
   ],
   "source": [
    "# TODO: Enter your code here\n",
    "pred_df[\"error\"] = (pred_df[\"resale_price\"] - pred_df[\"resale_price_prediction\"]).abs()\n",
    "sorted_df = pred_df.sort_values(by=[\"error\"], ascending=False)\n",
    "sorted_df.head(25)"
   ]
  },
  {
   "cell_type": "markdown",
   "metadata": {
    "id": "bX5zy7V3qaGp"
   },
   "source": [
    "\\# TODO: \\<Enter your answer here\\> <br >\n",
    "\n",
    "These rows all have a degree_centrality of either 0.016807 or 0.033613. <br />\n",
    "By printing *sorted_df['degree_centrality'].value_counts()*, <br />\n",
    "| degree_centrality | counts |\n",
    "| -------- | ------- |\n",
    "| 0.016807 | 24499 |\n",
    "| 0.033613 | 1993 |\n",
    "| 0.008403 | 1923 |\n",
    "| 0.025210 | 642 |\n",
    "\n",
    " <br>\n",
    "we can see that most of the data have a degree_centrality of 0.016807 or 0.033613. Hence, in reality this feature might actually not make a difference to the predictions and thus, we can try reducing the weight associated with the degree_centrality feature. <br>\n",
    "We could also obtain more data with wider variety of degree_centrality values and re-train the model\n",
    " <br> <br>\n",
    "Additionally, most of these rows with highest error have floor_area_sqm of >=100, and remaining_lease_years of >=80, which could mean these these two features are not that indicative of the actual resale price. "
   ]
  },
  {
   "cell_type": "code",
   "execution_count": 17,
   "metadata": {},
   "outputs": [
    {
     "data": {
      "text/plain": [
       "degree_centrality\n",
       "0.016807    24499\n",
       "0.033613     1993\n",
       "0.008403     1923\n",
       "0.025210      642\n",
       "Name: count, dtype: int64"
      ]
     },
     "execution_count": 17,
     "metadata": {},
     "output_type": "execute_result"
    }
   ],
   "source": [
    "sorted_df['degree_centrality'].value_counts()"
   ]
  },
  {
   "cell_type": "code",
   "execution_count": null,
   "metadata": {},
   "outputs": [],
   "source": []
  }
 ],
 "metadata": {
  "colab": {
   "authorship_tag": "ABX9TyOG8ZhA98h3O6fnefkjOU9w",
   "provenance": []
  },
  "kernelspec": {
   "display_name": "Python 3 (ipykernel)",
   "language": "python",
   "name": "python3"
  },
  "language_info": {
   "codemirror_mode": {
    "name": "ipython",
    "version": 3
   },
   "file_extension": ".py",
   "mimetype": "text/x-python",
   "name": "python",
   "nbconvert_exporter": "python",
   "pygments_lexer": "ipython3",
   "version": "3.9.6"
  }
 },
 "nbformat": 4,
 "nbformat_minor": 1
}
